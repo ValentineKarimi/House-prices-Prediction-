{
  "nbformat": 4,
  "nbformat_minor": 0,
  "metadata": {
    "colab": {
      "name": "Moringa_School_Core_Week_7_IP.ipynb",
      "provenance": [],
      "authorship_tag": "ABX9TyN/rTw6V0Ryx7b9bvAhd7PT",
      "include_colab_link": true
    },
    "kernelspec": {
      "name": "python3",
      "display_name": "Python 3"
    }
  },
  "cells": [
    {
      "cell_type": "markdown",
      "metadata": {
        "id": "view-in-github",
        "colab_type": "text"
      },
      "source": [
        "<a href=\"https://colab.research.google.com/github/ValentineKarimi/Moringa-School-CoreWeek-7IP/blob/master/Moringa_School_Core_Week_7_IP.ipynb\" target=\"_parent\"><img src=\"https://colab.research.google.com/assets/colab-badge.svg\" alt=\"Open In Colab\"/></a>"
      ]
    },
    {
      "cell_type": "markdown",
      "metadata": {
        "id": "bzPhXmQKn1Ql",
        "colab_type": "text"
      },
      "source": [
        "\n",
        "#Defining the Question\n",
        "**a) Specifying the Question**\n",
        "\n",
        "I have been recruited as an analyst to help provide the best model for future prediction of prices for houses given some  data on the features of the houses.\n",
        "\n",
        "\n",
        "**b) Defining the Metric for Success**\n",
        "\n",
        "Find the best model to best predict the prices of a house given various features values\n",
        "\n",
        "**c) Understanding the context**\n",
        " \n",
        " There are various regression models used in machine learning. Depending on the features , accuracy and MSE, a good regression model should be choosen, so it is easier to predict the prices of houses for clients who will be buying houses in future \n",
        "\n",
        "**d) Recording the Experimental Design**\n",
        "\n",
        "Reading the Data\n",
        "\n",
        "Tidying the Dataset\n",
        "\n",
        "Exploratory Analysis\n",
        "\n",
        "Carrying out various regression models \n",
        "\n",
        "Follow-up questions\n",
        "\n",
        "\n",
        "**e) Data Relevance**\n",
        "\n",
        "Below is the dataset glossary:\n",
        "\n",
        "Id \n",
        "\n",
        "price  - Price of the house\n",
        "\n",
        "bedrooms - Number of Bedrooms\n",
        "\n",
        "bathrooms - Number of Bathrooms\n",
        "\n",
        "sqft_living - Square feet area of living area\n",
        "\n",
        "sqft_lot  - Square feet area of parking Layout\n",
        "\n",
        "\n",
        "floors - Number of Floors\n",
        "\n",
        "waterfront - Whether waterfront is there or not\n",
        "\n",
        "view - Number of Views\n",
        "\n",
        "grade - Grades\n",
        "\n",
        "sqft_above\n",
        "\n",
        "sqft_basement - Square feet area off basement\n",
        "\n",
        "yr_built - Year the house is built\n",
        "\n",
        "yr_renovated - Year the house is renovated\n",
        "\n",
        "zipcode - zipcode os the house\n",
        "\n",
        "lat : Latitude of the house\n",
        "\n",
        "lon : Longitude of the house\n",
        "\n",
        "sqft_living15\n",
        "\n",
        "sqft_lot15"
      ]
    },
    {
      "cell_type": "markdown",
      "metadata": {
        "id": "LLcuig0yq_TK",
        "colab_type": "text"
      },
      "source": [
        "# Reading the data "
      ]
    },
    {
      "cell_type": "code",
      "metadata": {
        "id": "YVbPklHDcQh8",
        "colab_type": "code",
        "colab": {}
      },
      "source": [
        "#Importing libraries \n",
        "import numpy as np\n",
        "import pandas as pd  \n",
        "\n",
        "\n",
        "from sklearn import metrics\n",
        "from sklearn.model_selection import GridSearchCV\n",
        "from sklearn.linear_model import Ridge\n",
        "from sklearn.linear_model import LinearRegression\n",
        "from sklearn.metrics import mean_squared_error\n",
        "from sklearn.linear_model import ElasticNet\n",
        "\n",
        "import seaborn as sns \n",
        "\n",
        "import matplotlib.pyplot as plt \n",
        "\n",
        "%matplotlib inline"
      ],
      "execution_count": 1232,
      "outputs": []
    },
    {
      "cell_type": "code",
      "metadata": {
        "id": "RfSrI3otb42Z",
        "colab_type": "code",
        "colab": {}
      },
      "source": [
        "#loading dataset\n",
        "house_data = pd.read_csv('/content/Independent Project Week 7 - house_data.csv')\n"
      ],
      "execution_count": 1233,
      "outputs": []
    },
    {
      "cell_type": "code",
      "metadata": {
        "id": "oiWnRMvfcKWA",
        "colab_type": "code",
        "colab": {
          "base_uri": "https://localhost:8080/",
          "height": 0
        },
        "outputId": "d3942a9a-ffd9-4a9b-e55d-bd7249662e8d"
      },
      "source": [
        "# Previewing the top and bottom part of the dataset\n",
        "display(\"house data preview\")\n",
        "display(house_data.head(3))\n",
        "display(house_data.tail(3))"
      ],
      "execution_count": 1234,
      "outputs": [
        {
          "output_type": "display_data",
          "data": {
            "application/vnd.google.colaboratory.intrinsic+json": {
              "type": "string"
            },
            "text/plain": [
              "'house data preview'"
            ]
          },
          "metadata": {
            "tags": []
          }
        },
        {
          "output_type": "display_data",
          "data": {
            "text/html": [
              "<div>\n",
              "<style scoped>\n",
              "    .dataframe tbody tr th:only-of-type {\n",
              "        vertical-align: middle;\n",
              "    }\n",
              "\n",
              "    .dataframe tbody tr th {\n",
              "        vertical-align: top;\n",
              "    }\n",
              "\n",
              "    .dataframe thead th {\n",
              "        text-align: right;\n",
              "    }\n",
              "</style>\n",
              "<table border=\"1\" class=\"dataframe\">\n",
              "  <thead>\n",
              "    <tr style=\"text-align: right;\">\n",
              "      <th></th>\n",
              "      <th>id</th>\n",
              "      <th>price</th>\n",
              "      <th>bedrooms</th>\n",
              "      <th>bathrooms</th>\n",
              "      <th>sqft_living</th>\n",
              "      <th>sqft_lot</th>\n",
              "      <th>floors</th>\n",
              "      <th>waterfront</th>\n",
              "      <th>view</th>\n",
              "      <th>condition</th>\n",
              "      <th>grade</th>\n",
              "      <th>sqft_above</th>\n",
              "      <th>sqft_basement</th>\n",
              "      <th>yr_built</th>\n",
              "      <th>yr_renovated</th>\n",
              "      <th>zipcode</th>\n",
              "      <th>lat</th>\n",
              "      <th>long</th>\n",
              "      <th>sqft_living15</th>\n",
              "      <th>sqft_lot15</th>\n",
              "    </tr>\n",
              "  </thead>\n",
              "  <tbody>\n",
              "    <tr>\n",
              "      <th>0</th>\n",
              "      <td>7129300520</td>\n",
              "      <td>221900.0</td>\n",
              "      <td>3</td>\n",
              "      <td>1.00</td>\n",
              "      <td>1180</td>\n",
              "      <td>5650</td>\n",
              "      <td>1.0</td>\n",
              "      <td>0</td>\n",
              "      <td>0</td>\n",
              "      <td>3</td>\n",
              "      <td>7</td>\n",
              "      <td>1180</td>\n",
              "      <td>0</td>\n",
              "      <td>1955</td>\n",
              "      <td>0</td>\n",
              "      <td>98178</td>\n",
              "      <td>47.5112</td>\n",
              "      <td>-122.257</td>\n",
              "      <td>1340</td>\n",
              "      <td>5650</td>\n",
              "    </tr>\n",
              "    <tr>\n",
              "      <th>1</th>\n",
              "      <td>6414100192</td>\n",
              "      <td>538000.0</td>\n",
              "      <td>3</td>\n",
              "      <td>2.25</td>\n",
              "      <td>2570</td>\n",
              "      <td>7242</td>\n",
              "      <td>2.0</td>\n",
              "      <td>0</td>\n",
              "      <td>0</td>\n",
              "      <td>3</td>\n",
              "      <td>7</td>\n",
              "      <td>2170</td>\n",
              "      <td>400</td>\n",
              "      <td>1951</td>\n",
              "      <td>1991</td>\n",
              "      <td>98125</td>\n",
              "      <td>47.7210</td>\n",
              "      <td>-122.319</td>\n",
              "      <td>1690</td>\n",
              "      <td>7639</td>\n",
              "    </tr>\n",
              "    <tr>\n",
              "      <th>2</th>\n",
              "      <td>5631500400</td>\n",
              "      <td>180000.0</td>\n",
              "      <td>2</td>\n",
              "      <td>1.00</td>\n",
              "      <td>770</td>\n",
              "      <td>10000</td>\n",
              "      <td>1.0</td>\n",
              "      <td>0</td>\n",
              "      <td>0</td>\n",
              "      <td>3</td>\n",
              "      <td>6</td>\n",
              "      <td>770</td>\n",
              "      <td>0</td>\n",
              "      <td>1933</td>\n",
              "      <td>0</td>\n",
              "      <td>98028</td>\n",
              "      <td>47.7379</td>\n",
              "      <td>-122.233</td>\n",
              "      <td>2720</td>\n",
              "      <td>8062</td>\n",
              "    </tr>\n",
              "  </tbody>\n",
              "</table>\n",
              "</div>"
            ],
            "text/plain": [
              "           id     price  bedrooms  ...     long  sqft_living15  sqft_lot15\n",
              "0  7129300520  221900.0         3  ... -122.257           1340        5650\n",
              "1  6414100192  538000.0         3  ... -122.319           1690        7639\n",
              "2  5631500400  180000.0         2  ... -122.233           2720        8062\n",
              "\n",
              "[3 rows x 20 columns]"
            ]
          },
          "metadata": {
            "tags": []
          }
        },
        {
          "output_type": "display_data",
          "data": {
            "text/html": [
              "<div>\n",
              "<style scoped>\n",
              "    .dataframe tbody tr th:only-of-type {\n",
              "        vertical-align: middle;\n",
              "    }\n",
              "\n",
              "    .dataframe tbody tr th {\n",
              "        vertical-align: top;\n",
              "    }\n",
              "\n",
              "    .dataframe thead th {\n",
              "        text-align: right;\n",
              "    }\n",
              "</style>\n",
              "<table border=\"1\" class=\"dataframe\">\n",
              "  <thead>\n",
              "    <tr style=\"text-align: right;\">\n",
              "      <th></th>\n",
              "      <th>id</th>\n",
              "      <th>price</th>\n",
              "      <th>bedrooms</th>\n",
              "      <th>bathrooms</th>\n",
              "      <th>sqft_living</th>\n",
              "      <th>sqft_lot</th>\n",
              "      <th>floors</th>\n",
              "      <th>waterfront</th>\n",
              "      <th>view</th>\n",
              "      <th>condition</th>\n",
              "      <th>grade</th>\n",
              "      <th>sqft_above</th>\n",
              "      <th>sqft_basement</th>\n",
              "      <th>yr_built</th>\n",
              "      <th>yr_renovated</th>\n",
              "      <th>zipcode</th>\n",
              "      <th>lat</th>\n",
              "      <th>long</th>\n",
              "      <th>sqft_living15</th>\n",
              "      <th>sqft_lot15</th>\n",
              "    </tr>\n",
              "  </thead>\n",
              "  <tbody>\n",
              "    <tr>\n",
              "      <th>21610</th>\n",
              "      <td>1523300141</td>\n",
              "      <td>402101.0</td>\n",
              "      <td>2</td>\n",
              "      <td>0.75</td>\n",
              "      <td>1020</td>\n",
              "      <td>1350</td>\n",
              "      <td>2.0</td>\n",
              "      <td>0</td>\n",
              "      <td>0</td>\n",
              "      <td>3</td>\n",
              "      <td>7</td>\n",
              "      <td>1020</td>\n",
              "      <td>0</td>\n",
              "      <td>2009</td>\n",
              "      <td>0</td>\n",
              "      <td>98144</td>\n",
              "      <td>47.5944</td>\n",
              "      <td>-122.299</td>\n",
              "      <td>1020</td>\n",
              "      <td>2007</td>\n",
              "    </tr>\n",
              "    <tr>\n",
              "      <th>21611</th>\n",
              "      <td>291310100</td>\n",
              "      <td>400000.0</td>\n",
              "      <td>3</td>\n",
              "      <td>2.50</td>\n",
              "      <td>1600</td>\n",
              "      <td>2388</td>\n",
              "      <td>2.0</td>\n",
              "      <td>0</td>\n",
              "      <td>0</td>\n",
              "      <td>3</td>\n",
              "      <td>8</td>\n",
              "      <td>1600</td>\n",
              "      <td>0</td>\n",
              "      <td>2004</td>\n",
              "      <td>0</td>\n",
              "      <td>98027</td>\n",
              "      <td>47.5345</td>\n",
              "      <td>-122.069</td>\n",
              "      <td>1410</td>\n",
              "      <td>1287</td>\n",
              "    </tr>\n",
              "    <tr>\n",
              "      <th>21612</th>\n",
              "      <td>1523300157</td>\n",
              "      <td>325000.0</td>\n",
              "      <td>2</td>\n",
              "      <td>0.75</td>\n",
              "      <td>1020</td>\n",
              "      <td>1076</td>\n",
              "      <td>2.0</td>\n",
              "      <td>0</td>\n",
              "      <td>0</td>\n",
              "      <td>3</td>\n",
              "      <td>7</td>\n",
              "      <td>1020</td>\n",
              "      <td>0</td>\n",
              "      <td>2008</td>\n",
              "      <td>0</td>\n",
              "      <td>98144</td>\n",
              "      <td>47.5941</td>\n",
              "      <td>-122.299</td>\n",
              "      <td>1020</td>\n",
              "      <td>1357</td>\n",
              "    </tr>\n",
              "  </tbody>\n",
              "</table>\n",
              "</div>"
            ],
            "text/plain": [
              "               id     price  bedrooms  ...     long  sqft_living15  sqft_lot15\n",
              "21610  1523300141  402101.0         2  ... -122.299           1020        2007\n",
              "21611   291310100  400000.0         3  ... -122.069           1410        1287\n",
              "21612  1523300157  325000.0         2  ... -122.299           1020        1357\n",
              "\n",
              "[3 rows x 20 columns]"
            ]
          },
          "metadata": {
            "tags": []
          }
        }
      ]
    },
    {
      "cell_type": "code",
      "metadata": {
        "id": "W0l6KxagcOLu",
        "colab_type": "code",
        "colab": {
          "base_uri": "https://localhost:8080/",
          "height": 0
        },
        "outputId": "bca3081d-3dad-4569-913e-9f70d73920c9"
      },
      "source": [
        "# Check The number of records in dataset\n",
        "print('House_data dataset has ',house_data.shape[0],'records and ',house_data.shape[1], 'rows' )\n"
      ],
      "execution_count": 1235,
      "outputs": [
        {
          "output_type": "stream",
          "text": [
            "House_data dataset has  21613 records and  20 rows\n"
          ],
          "name": "stdout"
        }
      ]
    },
    {
      "cell_type": "code",
      "metadata": {
        "id": "6ntL121KcmJg",
        "colab_type": "code",
        "colab": {
          "base_uri": "https://localhost:8080/",
          "height": 0
        },
        "outputId": "d146bb87-fcf0-4369-95ad-88f59ca880b0"
      },
      "source": [
        "# Check  information on datatypes of datasets \n",
        "display(\"Information on house data\")\n",
        "display(house_data.info())\n",
        "#Checking the columns in datasets\n",
        "display(\"House_data columns\")\n",
        "display(house_data.columns)"
      ],
      "execution_count": 1236,
      "outputs": [
        {
          "output_type": "display_data",
          "data": {
            "application/vnd.google.colaboratory.intrinsic+json": {
              "type": "string"
            },
            "text/plain": [
              "'Information on house data'"
            ]
          },
          "metadata": {
            "tags": []
          }
        },
        {
          "output_type": "stream",
          "text": [
            "<class 'pandas.core.frame.DataFrame'>\n",
            "RangeIndex: 21613 entries, 0 to 21612\n",
            "Data columns (total 20 columns):\n",
            " #   Column         Non-Null Count  Dtype  \n",
            "---  ------         --------------  -----  \n",
            " 0   id             21613 non-null  int64  \n",
            " 1   price          21613 non-null  float64\n",
            " 2   bedrooms       21613 non-null  int64  \n",
            " 3   bathrooms      21613 non-null  float64\n",
            " 4   sqft_living    21613 non-null  int64  \n",
            " 5   sqft_lot       21613 non-null  int64  \n",
            " 6   floors         21613 non-null  float64\n",
            " 7   waterfront     21613 non-null  int64  \n",
            " 8   view           21613 non-null  int64  \n",
            " 9   condition      21613 non-null  int64  \n",
            " 10  grade          21613 non-null  int64  \n",
            " 11  sqft_above     21613 non-null  int64  \n",
            " 12  sqft_basement  21613 non-null  int64  \n",
            " 13  yr_built       21613 non-null  int64  \n",
            " 14  yr_renovated   21613 non-null  int64  \n",
            " 15  zipcode        21613 non-null  int64  \n",
            " 16  lat            21613 non-null  float64\n",
            " 17  long           21613 non-null  float64\n",
            " 18  sqft_living15  21613 non-null  int64  \n",
            " 19  sqft_lot15     21613 non-null  int64  \n",
            "dtypes: float64(5), int64(15)\n",
            "memory usage: 3.3 MB\n"
          ],
          "name": "stdout"
        },
        {
          "output_type": "display_data",
          "data": {
            "text/plain": [
              "None"
            ]
          },
          "metadata": {
            "tags": []
          }
        },
        {
          "output_type": "display_data",
          "data": {
            "application/vnd.google.colaboratory.intrinsic+json": {
              "type": "string"
            },
            "text/plain": [
              "'House_data columns'"
            ]
          },
          "metadata": {
            "tags": []
          }
        },
        {
          "output_type": "display_data",
          "data": {
            "text/plain": [
              "Index(['id', 'price', 'bedrooms', 'bathrooms', 'sqft_living', 'sqft_lot',\n",
              "       'floors', 'waterfront', 'view', 'condition', 'grade', 'sqft_above',\n",
              "       'sqft_basement', 'yr_built', 'yr_renovated', 'zipcode', 'lat', 'long',\n",
              "       'sqft_living15', 'sqft_lot15'],\n",
              "      dtype='object')"
            ]
          },
          "metadata": {
            "tags": []
          }
        }
      ]
    },
    {
      "cell_type": "code",
      "metadata": {
        "id": "eenPcf07cqrt",
        "colab_type": "code",
        "colab": {
          "base_uri": "https://localhost:8080/",
          "height": 0
        },
        "outputId": "176cd563-f61b-44fd-cc13-0f9b6883ee33"
      },
      "source": [
        "#A summary of the the dataset\n",
        "house_data.describe()"
      ],
      "execution_count": 1237,
      "outputs": [
        {
          "output_type": "execute_result",
          "data": {
            "text/html": [
              "<div>\n",
              "<style scoped>\n",
              "    .dataframe tbody tr th:only-of-type {\n",
              "        vertical-align: middle;\n",
              "    }\n",
              "\n",
              "    .dataframe tbody tr th {\n",
              "        vertical-align: top;\n",
              "    }\n",
              "\n",
              "    .dataframe thead th {\n",
              "        text-align: right;\n",
              "    }\n",
              "</style>\n",
              "<table border=\"1\" class=\"dataframe\">\n",
              "  <thead>\n",
              "    <tr style=\"text-align: right;\">\n",
              "      <th></th>\n",
              "      <th>id</th>\n",
              "      <th>price</th>\n",
              "      <th>bedrooms</th>\n",
              "      <th>bathrooms</th>\n",
              "      <th>sqft_living</th>\n",
              "      <th>sqft_lot</th>\n",
              "      <th>floors</th>\n",
              "      <th>waterfront</th>\n",
              "      <th>view</th>\n",
              "      <th>condition</th>\n",
              "      <th>grade</th>\n",
              "      <th>sqft_above</th>\n",
              "      <th>sqft_basement</th>\n",
              "      <th>yr_built</th>\n",
              "      <th>yr_renovated</th>\n",
              "      <th>zipcode</th>\n",
              "      <th>lat</th>\n",
              "      <th>long</th>\n",
              "      <th>sqft_living15</th>\n",
              "      <th>sqft_lot15</th>\n",
              "    </tr>\n",
              "  </thead>\n",
              "  <tbody>\n",
              "    <tr>\n",
              "      <th>count</th>\n",
              "      <td>2.161300e+04</td>\n",
              "      <td>2.161300e+04</td>\n",
              "      <td>21613.000000</td>\n",
              "      <td>21613.000000</td>\n",
              "      <td>21613.000000</td>\n",
              "      <td>2.161300e+04</td>\n",
              "      <td>21613.000000</td>\n",
              "      <td>21613.000000</td>\n",
              "      <td>21613.000000</td>\n",
              "      <td>21613.000000</td>\n",
              "      <td>21613.000000</td>\n",
              "      <td>21613.000000</td>\n",
              "      <td>21613.000000</td>\n",
              "      <td>21613.000000</td>\n",
              "      <td>21613.000000</td>\n",
              "      <td>21613.000000</td>\n",
              "      <td>21613.000000</td>\n",
              "      <td>21613.000000</td>\n",
              "      <td>21613.000000</td>\n",
              "      <td>21613.000000</td>\n",
              "    </tr>\n",
              "    <tr>\n",
              "      <th>mean</th>\n",
              "      <td>4.580302e+09</td>\n",
              "      <td>5.401822e+05</td>\n",
              "      <td>3.370842</td>\n",
              "      <td>2.114757</td>\n",
              "      <td>2079.899736</td>\n",
              "      <td>1.510697e+04</td>\n",
              "      <td>1.494309</td>\n",
              "      <td>0.007542</td>\n",
              "      <td>0.234303</td>\n",
              "      <td>3.409430</td>\n",
              "      <td>7.656873</td>\n",
              "      <td>1788.390691</td>\n",
              "      <td>291.509045</td>\n",
              "      <td>1971.005136</td>\n",
              "      <td>84.402258</td>\n",
              "      <td>98077.939805</td>\n",
              "      <td>47.560053</td>\n",
              "      <td>-122.213896</td>\n",
              "      <td>1986.552492</td>\n",
              "      <td>12768.455652</td>\n",
              "    </tr>\n",
              "    <tr>\n",
              "      <th>std</th>\n",
              "      <td>2.876566e+09</td>\n",
              "      <td>3.673622e+05</td>\n",
              "      <td>0.930062</td>\n",
              "      <td>0.770163</td>\n",
              "      <td>918.440897</td>\n",
              "      <td>4.142051e+04</td>\n",
              "      <td>0.539989</td>\n",
              "      <td>0.086517</td>\n",
              "      <td>0.766318</td>\n",
              "      <td>0.650743</td>\n",
              "      <td>1.175459</td>\n",
              "      <td>828.090978</td>\n",
              "      <td>442.575043</td>\n",
              "      <td>29.373411</td>\n",
              "      <td>401.679240</td>\n",
              "      <td>53.505026</td>\n",
              "      <td>0.138564</td>\n",
              "      <td>0.140828</td>\n",
              "      <td>685.391304</td>\n",
              "      <td>27304.179631</td>\n",
              "    </tr>\n",
              "    <tr>\n",
              "      <th>min</th>\n",
              "      <td>1.000102e+06</td>\n",
              "      <td>7.500000e+04</td>\n",
              "      <td>0.000000</td>\n",
              "      <td>0.000000</td>\n",
              "      <td>290.000000</td>\n",
              "      <td>5.200000e+02</td>\n",
              "      <td>1.000000</td>\n",
              "      <td>0.000000</td>\n",
              "      <td>0.000000</td>\n",
              "      <td>1.000000</td>\n",
              "      <td>1.000000</td>\n",
              "      <td>290.000000</td>\n",
              "      <td>0.000000</td>\n",
              "      <td>1900.000000</td>\n",
              "      <td>0.000000</td>\n",
              "      <td>98001.000000</td>\n",
              "      <td>47.155900</td>\n",
              "      <td>-122.519000</td>\n",
              "      <td>399.000000</td>\n",
              "      <td>651.000000</td>\n",
              "    </tr>\n",
              "    <tr>\n",
              "      <th>25%</th>\n",
              "      <td>2.123049e+09</td>\n",
              "      <td>3.219500e+05</td>\n",
              "      <td>3.000000</td>\n",
              "      <td>1.750000</td>\n",
              "      <td>1427.000000</td>\n",
              "      <td>5.040000e+03</td>\n",
              "      <td>1.000000</td>\n",
              "      <td>0.000000</td>\n",
              "      <td>0.000000</td>\n",
              "      <td>3.000000</td>\n",
              "      <td>7.000000</td>\n",
              "      <td>1190.000000</td>\n",
              "      <td>0.000000</td>\n",
              "      <td>1951.000000</td>\n",
              "      <td>0.000000</td>\n",
              "      <td>98033.000000</td>\n",
              "      <td>47.471000</td>\n",
              "      <td>-122.328000</td>\n",
              "      <td>1490.000000</td>\n",
              "      <td>5100.000000</td>\n",
              "    </tr>\n",
              "    <tr>\n",
              "      <th>50%</th>\n",
              "      <td>3.904930e+09</td>\n",
              "      <td>4.500000e+05</td>\n",
              "      <td>3.000000</td>\n",
              "      <td>2.250000</td>\n",
              "      <td>1910.000000</td>\n",
              "      <td>7.618000e+03</td>\n",
              "      <td>1.500000</td>\n",
              "      <td>0.000000</td>\n",
              "      <td>0.000000</td>\n",
              "      <td>3.000000</td>\n",
              "      <td>7.000000</td>\n",
              "      <td>1560.000000</td>\n",
              "      <td>0.000000</td>\n",
              "      <td>1975.000000</td>\n",
              "      <td>0.000000</td>\n",
              "      <td>98065.000000</td>\n",
              "      <td>47.571800</td>\n",
              "      <td>-122.230000</td>\n",
              "      <td>1840.000000</td>\n",
              "      <td>7620.000000</td>\n",
              "    </tr>\n",
              "    <tr>\n",
              "      <th>75%</th>\n",
              "      <td>7.308900e+09</td>\n",
              "      <td>6.450000e+05</td>\n",
              "      <td>4.000000</td>\n",
              "      <td>2.500000</td>\n",
              "      <td>2550.000000</td>\n",
              "      <td>1.068800e+04</td>\n",
              "      <td>2.000000</td>\n",
              "      <td>0.000000</td>\n",
              "      <td>0.000000</td>\n",
              "      <td>4.000000</td>\n",
              "      <td>8.000000</td>\n",
              "      <td>2210.000000</td>\n",
              "      <td>560.000000</td>\n",
              "      <td>1997.000000</td>\n",
              "      <td>0.000000</td>\n",
              "      <td>98118.000000</td>\n",
              "      <td>47.678000</td>\n",
              "      <td>-122.125000</td>\n",
              "      <td>2360.000000</td>\n",
              "      <td>10083.000000</td>\n",
              "    </tr>\n",
              "    <tr>\n",
              "      <th>max</th>\n",
              "      <td>9.900000e+09</td>\n",
              "      <td>7.700000e+06</td>\n",
              "      <td>33.000000</td>\n",
              "      <td>8.000000</td>\n",
              "      <td>13540.000000</td>\n",
              "      <td>1.651359e+06</td>\n",
              "      <td>3.500000</td>\n",
              "      <td>1.000000</td>\n",
              "      <td>4.000000</td>\n",
              "      <td>5.000000</td>\n",
              "      <td>13.000000</td>\n",
              "      <td>9410.000000</td>\n",
              "      <td>4820.000000</td>\n",
              "      <td>2015.000000</td>\n",
              "      <td>2015.000000</td>\n",
              "      <td>98199.000000</td>\n",
              "      <td>47.777600</td>\n",
              "      <td>-121.315000</td>\n",
              "      <td>6210.000000</td>\n",
              "      <td>871200.000000</td>\n",
              "    </tr>\n",
              "  </tbody>\n",
              "</table>\n",
              "</div>"
            ],
            "text/plain": [
              "                 id         price  ...  sqft_living15     sqft_lot15\n",
              "count  2.161300e+04  2.161300e+04  ...   21613.000000   21613.000000\n",
              "mean   4.580302e+09  5.401822e+05  ...    1986.552492   12768.455652\n",
              "std    2.876566e+09  3.673622e+05  ...     685.391304   27304.179631\n",
              "min    1.000102e+06  7.500000e+04  ...     399.000000     651.000000\n",
              "25%    2.123049e+09  3.219500e+05  ...    1490.000000    5100.000000\n",
              "50%    3.904930e+09  4.500000e+05  ...    1840.000000    7620.000000\n",
              "75%    7.308900e+09  6.450000e+05  ...    2360.000000   10083.000000\n",
              "max    9.900000e+09  7.700000e+06  ...    6210.000000  871200.000000\n",
              "\n",
              "[8 rows x 20 columns]"
            ]
          },
          "metadata": {
            "tags": []
          },
          "execution_count": 1237
        }
      ]
    },
    {
      "cell_type": "code",
      "metadata": {
        "id": "IbhKq0inct11",
        "colab_type": "code",
        "colab": {}
      },
      "source": [
        "#Drop the irrelevant columns \n",
        "to_drop = [ 'sqft_living15', 'sqft_lot15'] # I chose the 'sqft_living', 'sqft_lot' instead to use \n",
        "house_data.drop(to_drop, axis=1,inplace=True)\n"
      ],
      "execution_count": 1238,
      "outputs": []
    },
    {
      "cell_type": "markdown",
      "metadata": {
        "id": "413ghPAFrWZn",
        "colab_type": "text"
      },
      "source": [
        "# Tidying the dataset "
      ]
    },
    {
      "cell_type": "code",
      "metadata": {
        "id": "BhkJZtMKczUc",
        "colab_type": "code",
        "colab": {
          "base_uri": "https://localhost:8080/",
          "height": 0
        },
        "outputId": "8d2b7b3f-2cae-4c91-9cc2-d7fb6b62ec05"
      },
      "source": [
        "# Checking for Outliers\n",
        "fig, ((ax1, ax2,ax3,ax4), (ax5, ax6,ax7,ax8)  ) = plt.subplots(2,4, figsize=(40, 40))\n",
        "fig.suptitle('Boxplots')\n",
        "ax1.set_xlabel('xlabel',fontsize=14)\n",
        "ax2.set_xlabel('xlabel',fontsize=14)\n",
        "ax3.set_xlabel('xlabel',fontsize=14)\n",
        "ax4.set_xlabel('xlabel',fontsize=14)\n",
        "ax5.set_xlabel('xlabel',fontsize=14)\n",
        "ax6.set_xlabel('xlabel',fontsize=14)\n",
        "ax7.set_xlabel('xlabel',fontsize=14)\n",
        "ax8.set_xlabel('xlabel',fontsize=14)\n",
        "\n",
        "\n",
        "sns.boxplot(house_data['price'], ax=ax1)\n",
        "sns.boxplot(house_data['bedrooms'], ax=ax2)\n",
        "sns.boxplot(house_data['bathrooms'], ax=ax3)\n",
        "sns.boxplot(house_data['sqft_living'], ax=ax4)\n",
        "sns.boxplot(house_data['sqft_lot'], ax=ax5)\n",
        "sns.boxplot(house_data['floors'], ax=ax6)\n",
        "sns.boxplot(house_data['waterfront'], ax=ax7)\n",
        "sns.boxplot(house_data['view'], ax=ax8)"
      ],
      "execution_count": 1239,
      "outputs": [
        {
          "output_type": "execute_result",
          "data": {
            "text/plain": [
              "<matplotlib.axes._subplots.AxesSubplot at 0x7f17fafcedd8>"
            ]
          },
          "metadata": {
            "tags": []
          },
          "execution_count": 1239
        },
        {
          "output_type": "display_data",
          "data": {
            "image/png": "[encoded data removed]",
            "text/plain": [
              "<Figure size 2880x2880 with 8 Axes>"
            ]
          },
          "metadata": {
            "tags": [],
            "needs_background": "light"
          }
        }
      ]
    },
    {
      "cell_type": "code",
      "metadata": {
        "id": "Ke80HMJjc3BM",
        "colab_type": "code",
        "colab": {
          "base_uri": "https://localhost:8080/",
          "height": 0
        },
        "outputId": "76cf5b61-b175-4a04-85f7-62649df9b592"
      },
      "source": [
        "#%% [code]\n",
        "fig,((ax9,ax10,ax11), (ax12,ax13,ax14))= plt.subplots(2,3, figsize=(40, 40))\n",
        "\n",
        "fig.suptitle('Boxplots')\n",
        "ax9.set_xlabel('xlabel',fontsize=14)\n",
        "ax10.set_xlabel('xlabel',fontsize=14)\n",
        "ax11.set_xlabel('xlabel',fontsize=14)\n",
        "ax12.set_xlabel('xlabel',fontsize=14)\n",
        "ax13.set_xlabel('xlabel',fontsize=14)\n",
        "ax14.set_xlabel('xlabel',fontsize=14)\n",
        "\n",
        "\n",
        "sns.boxplot(house_data['condition'], ax=ax9)\n",
        "sns.boxplot(house_data['grade'], ax=ax10)\n",
        "sns.boxplot(house_data['sqft_above'], ax=ax11)\n",
        "sns.boxplot(house_data['sqft_basement'], ax=ax12)\n",
        "sns.boxplot(house_data['yr_built'], ax=ax13)\n",
        "sns.boxplot(house_data['yr_renovated'], ax=ax14)"
      ],
      "execution_count": 1240,
      "outputs": [
        {
          "output_type": "execute_result",
          "data": {
            "text/plain": [
              "<matplotlib.axes._subplots.AxesSubplot at 0x7f17fad4fc50>"
            ]
          },
          "metadata": {
            "tags": []
          },
          "execution_count": 1240
        },
        {
          "output_type": "display_data",
          "data": {
            "image/png": "[encoded data removed]",
            "text/plain": [
              "<Figure size 2880x2880 with 6 Axes>"
            ]
          },
          "metadata": {
            "tags": [],
            "needs_background": "light"
          }
        }
      ]
    },
    {
      "cell_type": "code",
      "metadata": {
        "id": "cO-x-XNidDDn",
        "colab_type": "code",
        "colab": {
          "base_uri": "https://localhost:8080/",
          "height": 0
        },
        "outputId": "a80669ec-5132-4f14-9a7b-82ba92072b1f"
      },
      "source": [
        "#Dealing with outliers \n",
        "Q1 = house_data.quantile(0.25)\n",
        "Q3 = house_data.quantile(0.75)\n",
        "IQR = Q3 - Q1\n",
        "\n",
        "# Removing outliers based on the IQR range and stores the result in the data frame 'df_out'\n",
        "# ---\n",
        "# \n",
        "house_data_out = house_data[~((house_data < (Q1 - 1.5 * IQR)) | (house_data > (Q3 + 1.5 * IQR))).any(axis=1)]\n",
        "\n",
        "# Printing the shape of our new dataset\n",
        "# ---\n",
        "# \n",
        "print(house_data_out.shape)\n",
        "\n",
        "# Printing the shape of our old dataset\n",
        "# ---\n",
        "#\n",
        "print(house_data.shape)"
      ],
      "execution_count": 1241,
      "outputs": [
        {
          "output_type": "stream",
          "text": [
            "(15100, 18)\n",
            "(21613, 18)\n"
          ],
          "name": "stdout"
        }
      ]
    },
    {
      "cell_type": "code",
      "metadata": {
        "id": "5vlaqKEGc7hl",
        "colab_type": "code",
        "colab": {
          "base_uri": "https://localhost:8080/",
          "height": 0
        },
        "outputId": "141917c0-f3be-4ed5-d0b9-23c5e7dd9864"
      },
      "source": [
        "#Checking if there any anomalies \n",
        "Q1= house_data_out.quantile(0.25)\n",
        "Q3 =house_data_out.quantile(0.75)\n",
        "IQR = Q3-Q1\n",
        "display('0.25 quartile')\n",
        "print(Q1)\n",
        "print('----------------------------------------')\n",
        "display('0.75 quartile')\n",
        "print(Q3)\n",
        "print('----------------------------------------')\n",
        "display('0.5 quartile')\n",
        "print(IQR)"
      ],
      "execution_count": 1242,
      "outputs": [
        {
          "output_type": "display_data",
          "data": {
            "application/vnd.google.colaboratory.intrinsic+json": {
              "type": "string"
            },
            "text/plain": [
              "'0.25 quartile'"
            ]
          },
          "metadata": {
            "tags": []
          }
        },
        {
          "output_type": "stream",
          "text": [
            "id               2.313901e+09\n",
            "price            3.000000e+05\n",
            "bedrooms         3.000000e+00\n",
            "bathrooms        1.500000e+00\n",
            "sqft_living      1.350000e+03\n",
            "sqft_lot         4.725000e+03\n",
            "floors           1.000000e+00\n",
            "waterfront       0.000000e+00\n",
            "view             0.000000e+00\n",
            "condition        3.000000e+00\n",
            "grade            7.000000e+00\n",
            "sqft_above       1.140000e+03\n",
            "sqft_basement    0.000000e+00\n",
            "yr_built         1.952000e+03\n",
            "yr_renovated     0.000000e+00\n",
            "zipcode          9.803300e+04\n",
            "lat              4.745680e+01\n",
            "long            -1.223330e+02\n",
            "Name: 0.25, dtype: float64\n",
            "----------------------------------------\n"
          ],
          "name": "stdout"
        },
        {
          "output_type": "display_data",
          "data": {
            "application/vnd.google.colaboratory.intrinsic+json": {
              "type": "string"
            },
            "text/plain": [
              "'0.75 quartile'"
            ]
          },
          "metadata": {
            "tags": []
          }
        },
        {
          "output_type": "stream",
          "text": [
            "id               7.443001e+09\n",
            "price            5.475000e+05\n",
            "bedrooms         4.000000e+00\n",
            "bathrooms        2.500000e+00\n",
            "sqft_living      2.210000e+03\n",
            "sqft_lot         9.000000e+03\n",
            "floors           2.000000e+00\n",
            "waterfront       0.000000e+00\n",
            "view             0.000000e+00\n",
            "condition        4.000000e+00\n",
            "grade            8.000000e+00\n",
            "sqft_above       1.910000e+03\n",
            "sqft_basement    4.500000e+02\n",
            "yr_built         1.999000e+03\n",
            "yr_renovated     0.000000e+00\n",
            "zipcode          9.811800e+04\n",
            "lat              4.768340e+01\n",
            "long            -1.221510e+02\n",
            "Name: 0.75, dtype: float64\n",
            "----------------------------------------\n"
          ],
          "name": "stdout"
        },
        {
          "output_type": "display_data",
          "data": {
            "application/vnd.google.colaboratory.intrinsic+json": {
              "type": "string"
            },
            "text/plain": [
              "'0.5 quartile'"
            ]
          },
          "metadata": {
            "tags": []
          }
        },
        {
          "output_type": "stream",
          "text": [
            "id               5.129100e+09\n",
            "price            2.475000e+05\n",
            "bedrooms         1.000000e+00\n",
            "bathrooms        1.000000e+00\n",
            "sqft_living      8.600000e+02\n",
            "sqft_lot         4.275000e+03\n",
            "floors           1.000000e+00\n",
            "waterfront       0.000000e+00\n",
            "view             0.000000e+00\n",
            "condition        1.000000e+00\n",
            "grade            1.000000e+00\n",
            "sqft_above       7.700000e+02\n",
            "sqft_basement    4.500000e+02\n",
            "yr_built         4.700000e+01\n",
            "yr_renovated     0.000000e+00\n",
            "zipcode          8.500000e+01\n",
            "lat              2.266000e-01\n",
            "long             1.820000e-01\n",
            "dtype: float64\n"
          ],
          "name": "stdout"
        }
      ]
    },
    {
      "cell_type": "code",
      "metadata": {
        "id": "ETy7A_WOdXDW",
        "colab_type": "code",
        "colab": {
          "base_uri": "https://localhost:8080/",
          "height": 0
        },
        "outputId": "55849deb-4ef1-447e-fb6a-899648a087a4"
      },
      "source": [
        "# Checking for missing values \n",
        "display('Without outliers dataset')\n",
        "display(house_data_out.isnull().sum())"
      ],
      "execution_count": 1243,
      "outputs": [
        {
          "output_type": "display_data",
          "data": {
            "application/vnd.google.colaboratory.intrinsic+json": {
              "type": "string"
            },
            "text/plain": [
              "'Without outliers dataset'"
            ]
          },
          "metadata": {
            "tags": []
          }
        },
        {
          "output_type": "display_data",
          "data": {
            "text/plain": [
              "id               0\n",
              "price            0\n",
              "bedrooms         0\n",
              "bathrooms        0\n",
              "sqft_living      0\n",
              "sqft_lot         0\n",
              "floors           0\n",
              "waterfront       0\n",
              "view             0\n",
              "condition        0\n",
              "grade            0\n",
              "sqft_above       0\n",
              "sqft_basement    0\n",
              "yr_built         0\n",
              "yr_renovated     0\n",
              "zipcode          0\n",
              "lat              0\n",
              "long             0\n",
              "dtype: int64"
            ]
          },
          "metadata": {
            "tags": []
          }
        }
      ]
    },
    {
      "cell_type": "markdown",
      "metadata": {
        "id": "r4B8AM38rc4f",
        "colab_type": "text"
      },
      "source": [
        "#Exploratory Analysis "
      ]
    },
    {
      "cell_type": "code",
      "metadata": {
        "id": "mK6sLq2DdhXd",
        "colab_type": "code",
        "colab": {
          "base_uri": "https://localhost:8080/",
          "height": 0
        },
        "outputId": "84497ed8-2582-4811-9da5-79b593e946fa"
      },
      "source": [
        "#See the change of prices according to the year it was built \n",
        "GB = house_data_out.groupby([house_data_out.yr_built]).sum()\n",
        "GB.price.plot(figsize=(20,15), linewidth=5, fontsize=20)\n",
        "plt.title('price of houses as per the year it was built', fontsize=20)\n",
        "plt.xlabel('year', fontsize=20);\n",
        "plt.legend()"
      ],
      "execution_count": 1244,
      "outputs": [
        {
          "output_type": "execute_result",
          "data": {
            "text/plain": [
              "<matplotlib.legend.Legend at 0x7f17fb315eb8>"
            ]
          },
          "metadata": {
            "tags": []
          },
          "execution_count": 1244
        },
        {
          "output_type": "display_data",
          "data": {
            "image/png": "[encoded data removed]",
            "text/plain": [
              "<Figure size 1440x1080 with 1 Axes>"
            ]
          },
          "metadata": {
            "tags": [],
            "needs_background": "light"
          }
        }
      ]
    },
    {
      "cell_type": "code",
      "metadata": {
        "id": "9yCosbkNdl1u",
        "colab_type": "code",
        "colab": {
          "base_uri": "https://localhost:8080/",
          "height": 0
        },
        "outputId": "bd75f7ad-04c0-4190-f96b-f1568f86190f"
      },
      "source": [
        "#Distribution of prices in 1000\n",
        "fig,((ax1,ax2))= plt.subplots(2,1, figsize=(15, 15))\n",
        "fig.suptitle('distribution of prices with and without outliers')\n",
        "sns.distplot(house_data.price/1000, bins=25, color='#0504aa', ax=ax1)\n",
        "sns.distplot(house_data_out.price/1000, bins=25, color='mediumaquamarine', ax=ax2)\n"
      ],
      "execution_count": 1245,
      "outputs": [
        {
          "output_type": "execute_result",
          "data": {
            "text/plain": [
              "<matplotlib.axes._subplots.AxesSubplot at 0x7f17fab9acc0>"
            ]
          },
          "metadata": {
            "tags": []
          },
          "execution_count": 1245
        },
        {
          "output_type": "display_data",
          "data": {
            "image/png": "[encoded data removed]",
            "text/plain": [
              "<Figure size 1080x1080 with 2 Axes>"
            ]
          },
          "metadata": {
            "tags": [],
            "needs_background": "light"
          }
        }
      ]
    },
    {
      "cell_type": "code",
      "metadata": {
        "id": "4mZYowindqSG",
        "colab_type": "code",
        "colab": {
          "base_uri": "https://localhost:8080/",
          "height": 0
        },
        "outputId": "8ab5344b-bb09-462d-eff2-e5021aa0ccf9"
      },
      "source": [
        "#correlation of each variable \n",
        "correlation_mat = house_data_out.corr()\n",
        "Greaterthan= correlation_mat[correlation_mat > 0.5]\n",
        "plt.show()\n",
        "plt.figure(figsize=(15,15))\n",
        "sns.heatmap(Greaterthan,annot=True )\n",
        "plt.show()"
      ],
      "execution_count": 1246,
      "outputs": [
        {
          "output_type": "display_data",
          "data": {
            "image/png": "[encoded data removed]",
            "text/plain": [
              "<Figure size 1080x1080 with 2 Axes>"
            ]
          },
          "metadata": {
            "tags": [],
            "needs_background": "light"
          }
        }
      ]
    },
    {
      "cell_type": "markdown",
      "metadata": {
        "id": "wmrph_c3rlAg",
        "colab_type": "text"
      },
      "source": [
        "# Multi-linear regression "
      ]
    },
    {
      "cell_type": "markdown",
      "metadata": {
        "id": "Krw8YQXUrpBn",
        "colab_type": "text"
      },
      "source": [
        "\n",
        "Assumptions of linear regression \n",
        "\n",
        "Data has no outliers \n",
        "\n",
        "Data has no multi-colinearity \n",
        "\n",
        "The dependent variable has a linear relationship with the independent variables \n",
        "\n",
        "Independent variables should be continous \n",
        "\n",
        "There is no heteroskedasticity present "
      ]
    },
    {
      "cell_type": "code",
      "metadata": {
        "id": "umOQNvu6dt41",
        "colab_type": "code",
        "colab": {
          "base_uri": "https://localhost:8080/",
          "height": 1000
        },
        "outputId": "c19c8a11-3a8b-4987-d272-ec39b2fdc071"
      },
      "source": [
        "#Checking if the variables that had a linear relationship with price  \n",
        "\n",
        "import statsmodels.formula.api as smf\n",
        "import statsmodels.api as sm\n",
        "from statsmodels.graphics.regressionplots import plot_partregress_grid\n",
        "fig = plt.figure(figsize=(15, 15))\n",
        "results = smf.ols('price ~ bedrooms +\tbathrooms+\tsqft_living +\tsqft_lot +\tfloors+\twaterfront +\tview +condition +\tgrade\t+sqft_above +\tsqft_basement +\tyr_built+\tyr_renovated +\tzipcode +\tlat\t+long ' ,\n",
        "                   data=house_data_out).fit() \n",
        "plot_partregress_grid(results, fig=fig)\n",
        "plt.show()"
      ],
      "execution_count": 1247,
      "outputs": [
        {
          "output_type": "display_data",
          "data": {
            "image/png": "[encoded data removed]",
            "text/plain": [
              "<Figure size 1080x1080 with 17 Axes>"
            ]
          },
          "metadata": {
            "tags": [],
            "needs_background": "light"
          }
        }
      ]
    },
    {
      "cell_type": "markdown",
      "metadata": {
        "id": "v3ER4bYQsvYY",
        "colab_type": "text"
      },
      "source": [
        "Waterfront, views and year renovated are not continous although the all variables have a linear relationship "
      ]
    },
    {
      "cell_type": "code",
      "metadata": {
        "id": "YwDZIBGedzGG",
        "colab_type": "code",
        "colab": {}
      },
      "source": [
        "features = house_data_out.iloc[:,[2,3,4,5.8,9,10,11,12,13,15,16,17]]\n",
        "y = house_data_out.iloc[:,1]\n"
      ],
      "execution_count": 1248,
      "outputs": []
    },
    {
      "cell_type": "code",
      "metadata": {
        "id": "pElDnfBLd2ll",
        "colab_type": "code",
        "colab": {
          "base_uri": "https://localhost:8080/",
          "height": 407
        },
        "outputId": "ac557141-8962-4f03-e398-93d646df6680"
      },
      "source": [
        "#Detecting multi-colinearity \n",
        "# Remove the serial and admit chance columns, we want to focus on our independent variables only.\n",
        "independent_only = features\n",
        "# Let's display the correlations between the variables\n",
        "correlations = independent_only.corr()\n",
        "correlations"
      ],
      "execution_count": 1249,
      "outputs": [
        {
          "output_type": "execute_result",
          "data": {
            "text/html": [
              "<div>\n",
              "<style scoped>\n",
              "    .dataframe tbody tr th:only-of-type {\n",
              "        vertical-align: middle;\n",
              "    }\n",
              "\n",
              "    .dataframe tbody tr th {\n",
              "        vertical-align: top;\n",
              "    }\n",
              "\n",
              "    .dataframe thead th {\n",
              "        text-align: right;\n",
              "    }\n",
              "</style>\n",
              "<table border=\"1\" class=\"dataframe\">\n",
              "  <thead>\n",
              "    <tr style=\"text-align: right;\">\n",
              "      <th></th>\n",
              "      <th>bedrooms</th>\n",
              "      <th>bathrooms</th>\n",
              "      <th>sqft_living</th>\n",
              "      <th>sqft_lot</th>\n",
              "      <th>condition</th>\n",
              "      <th>grade</th>\n",
              "      <th>sqft_above</th>\n",
              "      <th>sqft_basement</th>\n",
              "      <th>yr_built</th>\n",
              "      <th>zipcode</th>\n",
              "      <th>lat</th>\n",
              "      <th>long</th>\n",
              "    </tr>\n",
              "  </thead>\n",
              "  <tbody>\n",
              "    <tr>\n",
              "      <th>bedrooms</th>\n",
              "      <td>1.000000</td>\n",
              "      <td>0.445595</td>\n",
              "      <td>0.615481</td>\n",
              "      <td>0.199400</td>\n",
              "      <td>0.028188</td>\n",
              "      <td>0.293642</td>\n",
              "      <td>0.487218</td>\n",
              "      <td>0.242615</td>\n",
              "      <td>0.161358</td>\n",
              "      <td>-0.187943</td>\n",
              "      <td>-0.081569</td>\n",
              "      <td>0.189568</td>\n",
              "    </tr>\n",
              "    <tr>\n",
              "      <th>bathrooms</th>\n",
              "      <td>0.445595</td>\n",
              "      <td>1.000000</td>\n",
              "      <td>0.670686</td>\n",
              "      <td>-0.087214</td>\n",
              "      <td>-0.158077</td>\n",
              "      <td>0.585699</td>\n",
              "      <td>0.593796</td>\n",
              "      <td>0.156973</td>\n",
              "      <td>0.604064</td>\n",
              "      <td>-0.247878</td>\n",
              "      <td>-0.053014</td>\n",
              "      <td>0.297995</td>\n",
              "    </tr>\n",
              "    <tr>\n",
              "      <th>sqft_living</th>\n",
              "      <td>0.615481</td>\n",
              "      <td>0.670686</td>\n",
              "      <td>1.000000</td>\n",
              "      <td>0.161263</td>\n",
              "      <td>-0.070971</td>\n",
              "      <td>0.625756</td>\n",
              "      <td>0.832635</td>\n",
              "      <td>0.324104</td>\n",
              "      <td>0.352845</td>\n",
              "      <td>-0.237093</td>\n",
              "      <td>-0.025313</td>\n",
              "      <td>0.312159</td>\n",
              "    </tr>\n",
              "    <tr>\n",
              "      <th>sqft_lot</th>\n",
              "      <td>0.199400</td>\n",
              "      <td>-0.087214</td>\n",
              "      <td>0.161263</td>\n",
              "      <td>1.000000</td>\n",
              "      <td>0.150771</td>\n",
              "      <td>-0.031919</td>\n",
              "      <td>0.114082</td>\n",
              "      <td>0.086757</td>\n",
              "      <td>-0.105786</td>\n",
              "      <td>-0.256380</td>\n",
              "      <td>-0.142710</td>\n",
              "      <td>0.225110</td>\n",
              "    </tr>\n",
              "    <tr>\n",
              "      <th>condition</th>\n",
              "      <td>0.028188</td>\n",
              "      <td>-0.158077</td>\n",
              "      <td>-0.070971</td>\n",
              "      <td>0.150771</td>\n",
              "      <td>1.000000</td>\n",
              "      <td>-0.190580</td>\n",
              "      <td>-0.190575</td>\n",
              "      <td>0.201591</td>\n",
              "      <td>-0.404793</td>\n",
              "      <td>0.000612</td>\n",
              "      <td>0.013937</td>\n",
              "      <td>-0.101587</td>\n",
              "    </tr>\n",
              "    <tr>\n",
              "      <th>grade</th>\n",
              "      <td>0.293642</td>\n",
              "      <td>0.585699</td>\n",
              "      <td>0.625756</td>\n",
              "      <td>-0.031919</td>\n",
              "      <td>-0.190580</td>\n",
              "      <td>1.000000</td>\n",
              "      <td>0.640633</td>\n",
              "      <td>-0.001498</td>\n",
              "      <td>0.510038</td>\n",
              "      <td>-0.212442</td>\n",
              "      <td>0.061998</td>\n",
              "      <td>0.237173</td>\n",
              "    </tr>\n",
              "    <tr>\n",
              "      <th>sqft_above</th>\n",
              "      <td>0.487218</td>\n",
              "      <td>0.593796</td>\n",
              "      <td>0.832635</td>\n",
              "      <td>0.114082</td>\n",
              "      <td>-0.190575</td>\n",
              "      <td>0.640633</td>\n",
              "      <td>1.000000</td>\n",
              "      <td>-0.254067</td>\n",
              "      <td>0.474205</td>\n",
              "      <td>-0.305483</td>\n",
              "      <td>-0.100962</td>\n",
              "      <td>0.423201</td>\n",
              "    </tr>\n",
              "    <tr>\n",
              "      <th>sqft_basement</th>\n",
              "      <td>0.242615</td>\n",
              "      <td>0.156973</td>\n",
              "      <td>0.324104</td>\n",
              "      <td>0.086757</td>\n",
              "      <td>0.201591</td>\n",
              "      <td>-0.001498</td>\n",
              "      <td>-0.254067</td>\n",
              "      <td>1.000000</td>\n",
              "      <td>-0.193819</td>\n",
              "      <td>0.107759</td>\n",
              "      <td>0.128255</td>\n",
              "      <td>-0.177748</td>\n",
              "    </tr>\n",
              "    <tr>\n",
              "      <th>yr_built</th>\n",
              "      <td>0.161358</td>\n",
              "      <td>0.604064</td>\n",
              "      <td>0.352845</td>\n",
              "      <td>-0.105786</td>\n",
              "      <td>-0.404793</td>\n",
              "      <td>0.510038</td>\n",
              "      <td>0.474205</td>\n",
              "      <td>-0.193819</td>\n",
              "      <td>1.000000</td>\n",
              "      <td>-0.342915</td>\n",
              "      <td>-0.190732</td>\n",
              "      <td>0.434084</td>\n",
              "    </tr>\n",
              "    <tr>\n",
              "      <th>zipcode</th>\n",
              "      <td>-0.187943</td>\n",
              "      <td>-0.247878</td>\n",
              "      <td>-0.237093</td>\n",
              "      <td>-0.256380</td>\n",
              "      <td>0.000612</td>\n",
              "      <td>-0.212442</td>\n",
              "      <td>-0.305483</td>\n",
              "      <td>0.107759</td>\n",
              "      <td>-0.342915</td>\n",
              "      <td>1.000000</td>\n",
              "      <td>0.302346</td>\n",
              "      <td>-0.581385</td>\n",
              "    </tr>\n",
              "    <tr>\n",
              "      <th>lat</th>\n",
              "      <td>-0.081569</td>\n",
              "      <td>-0.053014</td>\n",
              "      <td>-0.025313</td>\n",
              "      <td>-0.142710</td>\n",
              "      <td>0.013937</td>\n",
              "      <td>0.061998</td>\n",
              "      <td>-0.100962</td>\n",
              "      <td>0.128255</td>\n",
              "      <td>-0.190732</td>\n",
              "      <td>0.302346</td>\n",
              "      <td>1.000000</td>\n",
              "      <td>-0.157618</td>\n",
              "    </tr>\n",
              "    <tr>\n",
              "      <th>long</th>\n",
              "      <td>0.189568</td>\n",
              "      <td>0.297995</td>\n",
              "      <td>0.312159</td>\n",
              "      <td>0.225110</td>\n",
              "      <td>-0.101587</td>\n",
              "      <td>0.237173</td>\n",
              "      <td>0.423201</td>\n",
              "      <td>-0.177748</td>\n",
              "      <td>0.434084</td>\n",
              "      <td>-0.581385</td>\n",
              "      <td>-0.157618</td>\n",
              "      <td>1.000000</td>\n",
              "    </tr>\n",
              "  </tbody>\n",
              "</table>\n",
              "</div>"
            ],
            "text/plain": [
              "               bedrooms  bathrooms  sqft_living  ...   zipcode       lat      long\n",
              "bedrooms       1.000000   0.445595     0.615481  ... -0.187943 -0.081569  0.189568\n",
              "bathrooms      0.445595   1.000000     0.670686  ... -0.247878 -0.053014  0.297995\n",
              "sqft_living    0.615481   0.670686     1.000000  ... -0.237093 -0.025313  0.312159\n",
              "sqft_lot       0.199400  -0.087214     0.161263  ... -0.256380 -0.142710  0.225110\n",
              "condition      0.028188  -0.158077    -0.070971  ...  0.000612  0.013937 -0.101587\n",
              "grade          0.293642   0.585699     0.625756  ... -0.212442  0.061998  0.237173\n",
              "sqft_above     0.487218   0.593796     0.832635  ... -0.305483 -0.100962  0.423201\n",
              "sqft_basement  0.242615   0.156973     0.324104  ...  0.107759  0.128255 -0.177748\n",
              "yr_built       0.161358   0.604064     0.352845  ... -0.342915 -0.190732  0.434084\n",
              "zipcode       -0.187943  -0.247878    -0.237093  ...  1.000000  0.302346 -0.581385\n",
              "lat           -0.081569  -0.053014    -0.025313  ...  0.302346  1.000000 -0.157618\n",
              "long           0.189568   0.297995     0.312159  ... -0.581385 -0.157618  1.000000\n",
              "\n",
              "[12 rows x 12 columns]"
            ]
          },
          "metadata": {
            "tags": []
          },
          "execution_count": 1249
        }
      ]
    },
    {
      "cell_type": "code",
      "metadata": {
        "id": "HmMngfqZd6r1",
        "colab_type": "code",
        "colab": {
          "base_uri": "https://localhost:8080/",
          "height": 407
        },
        "outputId": "86eb1a9c-5c5c-4b88-aee1-a942bade7c17"
      },
      "source": [
        "pd.DataFrame(np.linalg.inv(correlations.values), index = correlations.index, columns=correlations.columns)\n"
      ],
      "execution_count": 1250,
      "outputs": [
        {
          "output_type": "execute_result",
          "data": {
            "text/html": [
              "<div>\n",
              "<style scoped>\n",
              "    .dataframe tbody tr th:only-of-type {\n",
              "        vertical-align: middle;\n",
              "    }\n",
              "\n",
              "    .dataframe tbody tr th {\n",
              "        vertical-align: top;\n",
              "    }\n",
              "\n",
              "    .dataframe thead th {\n",
              "        text-align: right;\n",
              "    }\n",
              "</style>\n",
              "<table border=\"1\" class=\"dataframe\">\n",
              "  <thead>\n",
              "    <tr style=\"text-align: right;\">\n",
              "      <th></th>\n",
              "      <th>bedrooms</th>\n",
              "      <th>bathrooms</th>\n",
              "      <th>sqft_living</th>\n",
              "      <th>sqft_lot</th>\n",
              "      <th>condition</th>\n",
              "      <th>grade</th>\n",
              "      <th>sqft_above</th>\n",
              "      <th>sqft_basement</th>\n",
              "      <th>yr_built</th>\n",
              "      <th>zipcode</th>\n",
              "      <th>lat</th>\n",
              "      <th>long</th>\n",
              "    </tr>\n",
              "  </thead>\n",
              "  <tbody>\n",
              "    <tr>\n",
              "      <th>bedrooms</th>\n",
              "      <td>1.716832</td>\n",
              "      <td>-0.322139</td>\n",
              "      <td>-1.773572e-01</td>\n",
              "      <td>-0.164857</td>\n",
              "      <td>-0.044098</td>\n",
              "      <td>0.230765</td>\n",
              "      <td>-8.239952e-01</td>\n",
              "      <td>-4.770381e-01</td>\n",
              "      <td>0.134276</td>\n",
              "      <td>0.065966</td>\n",
              "      <td>0.074146</td>\n",
              "      <td>0.056438</td>\n",
              "    </tr>\n",
              "    <tr>\n",
              "      <th>bathrooms</th>\n",
              "      <td>-0.322139</td>\n",
              "      <td>2.795880</td>\n",
              "      <td>-1.705904e+00</td>\n",
              "      <td>0.399818</td>\n",
              "      <td>-0.165542</td>\n",
              "      <td>-0.269975</td>\n",
              "      <td>6.043773e-01</td>\n",
              "      <td>1.194133e-01</td>\n",
              "      <td>-1.184687</td>\n",
              "      <td>0.069912</td>\n",
              "      <td>-0.041307</td>\n",
              "      <td>0.029056</td>\n",
              "    </tr>\n",
              "    <tr>\n",
              "      <th>sqft_living</th>\n",
              "      <td>-0.173089</td>\n",
              "      <td>-1.706763</td>\n",
              "      <td>4.800584e+13</td>\n",
              "      <td>-0.386593</td>\n",
              "      <td>1.245989</td>\n",
              "      <td>-0.635919</td>\n",
              "      <td>-4.695532e+13</td>\n",
              "      <td>-2.748870e+13</td>\n",
              "      <td>1.585309</td>\n",
              "      <td>0.280773</td>\n",
              "      <td>0.055270</td>\n",
              "      <td>-0.213274</td>\n",
              "    </tr>\n",
              "    <tr>\n",
              "      <th>sqft_lot</th>\n",
              "      <td>-0.164857</td>\n",
              "      <td>0.399818</td>\n",
              "      <td>-3.842522e-01</td>\n",
              "      <td>1.281874</td>\n",
              "      <td>-0.086642</td>\n",
              "      <td>0.054617</td>\n",
              "      <td>6.064754e-02</td>\n",
              "      <td>-2.536631e-02</td>\n",
              "      <td>0.157625</td>\n",
              "      <td>0.225841</td>\n",
              "      <td>0.114068</td>\n",
              "      <td>-0.227624</td>\n",
              "    </tr>\n",
              "    <tr>\n",
              "      <th>condition</th>\n",
              "      <td>-0.044098</td>\n",
              "      <td>-0.165542</td>\n",
              "      <td>1.245638e+00</td>\n",
              "      <td>-0.086642</td>\n",
              "      <td>1.274001</td>\n",
              "      <td>-0.010479</td>\n",
              "      <td>-1.087994e+00</td>\n",
              "      <td>-8.018757e-01</td>\n",
              "      <td>0.615980</td>\n",
              "      <td>0.151943</td>\n",
              "      <td>0.049005</td>\n",
              "      <td>-0.032945</td>\n",
              "    </tr>\n",
              "    <tr>\n",
              "      <th>grade</th>\n",
              "      <td>0.230765</td>\n",
              "      <td>-0.269975</td>\n",
              "      <td>-6.284600e-01</td>\n",
              "      <td>0.054617</td>\n",
              "      <td>-0.010479</td>\n",
              "      <td>2.204390</td>\n",
              "      <td>-6.792167e-01</td>\n",
              "      <td>-2.214837e-02</td>\n",
              "      <td>-0.583777</td>\n",
              "      <td>0.163770</td>\n",
              "      <td>-0.322928</td>\n",
              "      <td>0.277500</td>\n",
              "    </tr>\n",
              "    <tr>\n",
              "      <th>sqft_above</th>\n",
              "      <td>-0.819101</td>\n",
              "      <td>0.610631</td>\n",
              "      <td>-4.695532e+13</td>\n",
              "      <td>0.063060</td>\n",
              "      <td>-1.088901</td>\n",
              "      <td>-0.670637</td>\n",
              "      <td>4.592779e+13</td>\n",
              "      <td>2.688716e+13</td>\n",
              "      <td>-1.226308</td>\n",
              "      <td>-0.398622</td>\n",
              "      <td>0.042850</td>\n",
              "      <td>-0.290768</td>\n",
              "    </tr>\n",
              "    <tr>\n",
              "      <th>sqft_basement</th>\n",
              "      <td>-0.474994</td>\n",
              "      <td>0.119184</td>\n",
              "      <td>-2.748870e+13</td>\n",
              "      <td>-0.023984</td>\n",
              "      <td>-0.802252</td>\n",
              "      <td>-0.017268</td>\n",
              "      <td>2.688716e+13</td>\n",
              "      <td>1.574035e+13</td>\n",
              "      <td>-0.471569</td>\n",
              "      <td>-0.235648</td>\n",
              "      <td>-0.120123</td>\n",
              "      <td>0.165041</td>\n",
              "    </tr>\n",
              "    <tr>\n",
              "      <th>yr_built</th>\n",
              "      <td>0.134276</td>\n",
              "      <td>-1.184687</td>\n",
              "      <td>1.587248e+00</td>\n",
              "      <td>0.157625</td>\n",
              "      <td>0.615980</td>\n",
              "      <td>-0.583777</td>\n",
              "      <td>-1.228205e+00</td>\n",
              "      <td>-4.726796e-01</td>\n",
              "      <td>2.532772</td>\n",
              "      <td>0.169777</td>\n",
              "      <td>0.325465</td>\n",
              "      <td>-0.516020</td>\n",
              "    </tr>\n",
              "    <tr>\n",
              "      <th>zipcode</th>\n",
              "      <td>0.065966</td>\n",
              "      <td>0.069912</td>\n",
              "      <td>2.771636e-01</td>\n",
              "      <td>0.225841</td>\n",
              "      <td>0.151943</td>\n",
              "      <td>0.163770</td>\n",
              "      <td>-3.950921e-01</td>\n",
              "      <td>-2.335815e-01</td>\n",
              "      <td>0.169777</td>\n",
              "      <td>1.719993</td>\n",
              "      <td>-0.334619</td>\n",
              "      <td>0.805121</td>\n",
              "    </tr>\n",
              "    <tr>\n",
              "      <th>lat</th>\n",
              "      <td>0.074146</td>\n",
              "      <td>-0.041307</td>\n",
              "      <td>5.659325e-02</td>\n",
              "      <td>0.114068</td>\n",
              "      <td>0.049005</td>\n",
              "      <td>-0.322928</td>\n",
              "      <td>4.155608e-02</td>\n",
              "      <td>-1.208808e-01</td>\n",
              "      <td>0.325465</td>\n",
              "      <td>-0.334619</td>\n",
              "      <td>1.200333</td>\n",
              "      <td>-0.149223</td>\n",
              "    </tr>\n",
              "    <tr>\n",
              "      <th>long</th>\n",
              "      <td>0.056438</td>\n",
              "      <td>0.029056</td>\n",
              "      <td>-2.146336e-01</td>\n",
              "      <td>-0.227624</td>\n",
              "      <td>-0.032945</td>\n",
              "      <td>0.277500</td>\n",
              "      <td>-2.894382e-01</td>\n",
              "      <td>1.658199e-01</td>\n",
              "      <td>-0.516020</td>\n",
              "      <td>0.805121</td>\n",
              "      <td>-0.149223</td>\n",
              "      <td>1.850246</td>\n",
              "    </tr>\n",
              "  </tbody>\n",
              "</table>\n",
              "</div>"
            ],
            "text/plain": [
              "               bedrooms  bathrooms   sqft_living  ...   zipcode       lat      long\n",
              "bedrooms       1.716832  -0.322139 -1.773572e-01  ...  0.065966  0.074146  0.056438\n",
              "bathrooms     -0.322139   2.795880 -1.705904e+00  ...  0.069912 -0.041307  0.029056\n",
              "sqft_living   -0.173089  -1.706763  4.800584e+13  ...  0.280773  0.055270 -0.213274\n",
              "sqft_lot      -0.164857   0.399818 -3.842522e-01  ...  0.225841  0.114068 -0.227624\n",
              "condition     -0.044098  -0.165542  1.245638e+00  ...  0.151943  0.049005 -0.032945\n",
              "grade          0.230765  -0.269975 -6.284600e-01  ...  0.163770 -0.322928  0.277500\n",
              "sqft_above    -0.819101   0.610631 -4.695532e+13  ... -0.398622  0.042850 -0.290768\n",
              "sqft_basement -0.474994   0.119184 -2.748870e+13  ... -0.235648 -0.120123  0.165041\n",
              "yr_built       0.134276  -1.184687  1.587248e+00  ...  0.169777  0.325465 -0.516020\n",
              "zipcode        0.065966   0.069912  2.771636e-01  ...  1.719993 -0.334619  0.805121\n",
              "lat            0.074146  -0.041307  5.659325e-02  ... -0.334619  1.200333 -0.149223\n",
              "long           0.056438   0.029056 -2.146336e-01  ...  0.805121 -0.149223  1.850246\n",
              "\n",
              "[12 rows x 12 columns]"
            ]
          },
          "metadata": {
            "tags": []
          },
          "execution_count": 1250
        }
      ]
    },
    {
      "cell_type": "markdown",
      "metadata": {
        "id": "ws03j8CItcSW",
        "colab_type": "text"
      },
      "source": [
        "Dealing with multi-colinearity "
      ]
    },
    {
      "cell_type": "code",
      "metadata": {
        "id": "Q_-46VGLd-pd",
        "colab_type": "code",
        "colab": {}
      },
      "source": [
        "x =house_data_out.iloc[:,[2,5,9,10,12,13,15,16,17]]"
      ],
      "execution_count": 1251,
      "outputs": []
    },
    {
      "cell_type": "code",
      "metadata": {
        "id": "d-P5ZUJ8eCN-",
        "colab_type": "code",
        "colab": {
          "base_uri": "https://localhost:8080/",
          "height": 317
        },
        "outputId": "3dc46786-40c4-4b18-88a8-3578a7d7c70e"
      },
      "source": [
        "#Detecting multi-colinearity \n",
        "# Remove the serial and admit chance columns, we want to focus on our independent variables only.\n",
        "independent_only = x\n",
        "# Let's display the correlations between the variables\n",
        "correlations = independent_only.corr()\n",
        "correlations"
      ],
      "execution_count": 1252,
      "outputs": [
        {
          "output_type": "execute_result",
          "data": {
            "text/html": [
              "<div>\n",
              "<style scoped>\n",
              "    .dataframe tbody tr th:only-of-type {\n",
              "        vertical-align: middle;\n",
              "    }\n",
              "\n",
              "    .dataframe tbody tr th {\n",
              "        vertical-align: top;\n",
              "    }\n",
              "\n",
              "    .dataframe thead th {\n",
              "        text-align: right;\n",
              "    }\n",
              "</style>\n",
              "<table border=\"1\" class=\"dataframe\">\n",
              "  <thead>\n",
              "    <tr style=\"text-align: right;\">\n",
              "      <th></th>\n",
              "      <th>bedrooms</th>\n",
              "      <th>sqft_lot</th>\n",
              "      <th>condition</th>\n",
              "      <th>grade</th>\n",
              "      <th>sqft_basement</th>\n",
              "      <th>yr_built</th>\n",
              "      <th>zipcode</th>\n",
              "      <th>lat</th>\n",
              "      <th>long</th>\n",
              "    </tr>\n",
              "  </thead>\n",
              "  <tbody>\n",
              "    <tr>\n",
              "      <th>bedrooms</th>\n",
              "      <td>1.000000</td>\n",
              "      <td>0.199400</td>\n",
              "      <td>0.028188</td>\n",
              "      <td>0.293642</td>\n",
              "      <td>0.242615</td>\n",
              "      <td>0.161358</td>\n",
              "      <td>-0.187943</td>\n",
              "      <td>-0.081569</td>\n",
              "      <td>0.189568</td>\n",
              "    </tr>\n",
              "    <tr>\n",
              "      <th>sqft_lot</th>\n",
              "      <td>0.199400</td>\n",
              "      <td>1.000000</td>\n",
              "      <td>0.150771</td>\n",
              "      <td>-0.031919</td>\n",
              "      <td>0.086757</td>\n",
              "      <td>-0.105786</td>\n",
              "      <td>-0.256380</td>\n",
              "      <td>-0.142710</td>\n",
              "      <td>0.225110</td>\n",
              "    </tr>\n",
              "    <tr>\n",
              "      <th>condition</th>\n",
              "      <td>0.028188</td>\n",
              "      <td>0.150771</td>\n",
              "      <td>1.000000</td>\n",
              "      <td>-0.190580</td>\n",
              "      <td>0.201591</td>\n",
              "      <td>-0.404793</td>\n",
              "      <td>0.000612</td>\n",
              "      <td>0.013937</td>\n",
              "      <td>-0.101587</td>\n",
              "    </tr>\n",
              "    <tr>\n",
              "      <th>grade</th>\n",
              "      <td>0.293642</td>\n",
              "      <td>-0.031919</td>\n",
              "      <td>-0.190580</td>\n",
              "      <td>1.000000</td>\n",
              "      <td>-0.001498</td>\n",
              "      <td>0.510038</td>\n",
              "      <td>-0.212442</td>\n",
              "      <td>0.061998</td>\n",
              "      <td>0.237173</td>\n",
              "    </tr>\n",
              "    <tr>\n",
              "      <th>sqft_basement</th>\n",
              "      <td>0.242615</td>\n",
              "      <td>0.086757</td>\n",
              "      <td>0.201591</td>\n",
              "      <td>-0.001498</td>\n",
              "      <td>1.000000</td>\n",
              "      <td>-0.193819</td>\n",
              "      <td>0.107759</td>\n",
              "      <td>0.128255</td>\n",
              "      <td>-0.177748</td>\n",
              "    </tr>\n",
              "    <tr>\n",
              "      <th>yr_built</th>\n",
              "      <td>0.161358</td>\n",
              "      <td>-0.105786</td>\n",
              "      <td>-0.404793</td>\n",
              "      <td>0.510038</td>\n",
              "      <td>-0.193819</td>\n",
              "      <td>1.000000</td>\n",
              "      <td>-0.342915</td>\n",
              "      <td>-0.190732</td>\n",
              "      <td>0.434084</td>\n",
              "    </tr>\n",
              "    <tr>\n",
              "      <th>zipcode</th>\n",
              "      <td>-0.187943</td>\n",
              "      <td>-0.256380</td>\n",
              "      <td>0.000612</td>\n",
              "      <td>-0.212442</td>\n",
              "      <td>0.107759</td>\n",
              "      <td>-0.342915</td>\n",
              "      <td>1.000000</td>\n",
              "      <td>0.302346</td>\n",
              "      <td>-0.581385</td>\n",
              "    </tr>\n",
              "    <tr>\n",
              "      <th>lat</th>\n",
              "      <td>-0.081569</td>\n",
              "      <td>-0.142710</td>\n",
              "      <td>0.013937</td>\n",
              "      <td>0.061998</td>\n",
              "      <td>0.128255</td>\n",
              "      <td>-0.190732</td>\n",
              "      <td>0.302346</td>\n",
              "      <td>1.000000</td>\n",
              "      <td>-0.157618</td>\n",
              "    </tr>\n",
              "    <tr>\n",
              "      <th>long</th>\n",
              "      <td>0.189568</td>\n",
              "      <td>0.225110</td>\n",
              "      <td>-0.101587</td>\n",
              "      <td>0.237173</td>\n",
              "      <td>-0.177748</td>\n",
              "      <td>0.434084</td>\n",
              "      <td>-0.581385</td>\n",
              "      <td>-0.157618</td>\n",
              "      <td>1.000000</td>\n",
              "    </tr>\n",
              "  </tbody>\n",
              "</table>\n",
              "</div>"
            ],
            "text/plain": [
              "               bedrooms  sqft_lot  condition  ...   zipcode       lat      long\n",
              "bedrooms       1.000000  0.199400   0.028188  ... -0.187943 -0.081569  0.189568\n",
              "sqft_lot       0.199400  1.000000   0.150771  ... -0.256380 -0.142710  0.225110\n",
              "condition      0.028188  0.150771   1.000000  ...  0.000612  0.013937 -0.101587\n",
              "grade          0.293642 -0.031919  -0.190580  ... -0.212442  0.061998  0.237173\n",
              "sqft_basement  0.242615  0.086757   0.201591  ...  0.107759  0.128255 -0.177748\n",
              "yr_built       0.161358 -0.105786  -0.404793  ... -0.342915 -0.190732  0.434084\n",
              "zipcode       -0.187943 -0.256380   0.000612  ...  1.000000  0.302346 -0.581385\n",
              "lat           -0.081569 -0.142710   0.013937  ...  0.302346  1.000000 -0.157618\n",
              "long           0.189568  0.225110  -0.101587  ... -0.581385 -0.157618  1.000000\n",
              "\n",
              "[9 rows x 9 columns]"
            ]
          },
          "metadata": {
            "tags": []
          },
          "execution_count": 1252
        }
      ]
    },
    {
      "cell_type": "code",
      "metadata": {
        "id": "N7EIonaaeD4L",
        "colab_type": "code",
        "colab": {
          "base_uri": "https://localhost:8080/",
          "height": 317
        },
        "outputId": "84c173a0-be32-46a2-e7ea-1b84d9e4be39"
      },
      "source": [
        "pd.DataFrame(np.linalg.inv(correlations.values), index = correlations.index, columns=correlations.columns)"
      ],
      "execution_count": 1253,
      "outputs": [
        {
          "output_type": "execute_result",
          "data": {
            "text/html": [
              "<div>\n",
              "<style scoped>\n",
              "    .dataframe tbody tr th:only-of-type {\n",
              "        vertical-align: middle;\n",
              "    }\n",
              "\n",
              "    .dataframe tbody tr th {\n",
              "        vertical-align: top;\n",
              "    }\n",
              "\n",
              "    .dataframe thead th {\n",
              "        text-align: right;\n",
              "    }\n",
              "</style>\n",
              "<table border=\"1\" class=\"dataframe\">\n",
              "  <thead>\n",
              "    <tr style=\"text-align: right;\">\n",
              "      <th></th>\n",
              "      <th>bedrooms</th>\n",
              "      <th>sqft_lot</th>\n",
              "      <th>condition</th>\n",
              "      <th>grade</th>\n",
              "      <th>sqft_basement</th>\n",
              "      <th>yr_built</th>\n",
              "      <th>zipcode</th>\n",
              "      <th>lat</th>\n",
              "      <th>long</th>\n",
              "    </tr>\n",
              "  </thead>\n",
              "  <tbody>\n",
              "    <tr>\n",
              "      <th>bedrooms</th>\n",
              "      <td>1.260310</td>\n",
              "      <td>-0.180608</td>\n",
              "      <td>-0.037815</td>\n",
              "      <td>-0.327199</td>\n",
              "      <td>-0.331505</td>\n",
              "      <td>-0.049181</td>\n",
              "      <td>0.037188</td>\n",
              "      <td>0.100082</td>\n",
              "      <td>-0.124676</td>\n",
              "    </tr>\n",
              "    <tr>\n",
              "      <th>sqft_lot</th>\n",
              "      <td>-0.180608</td>\n",
              "      <td>1.215587</td>\n",
              "      <td>-0.059231</td>\n",
              "      <td>0.015569</td>\n",
              "      <td>-0.072306</td>\n",
              "      <td>0.320117</td>\n",
              "      <td>0.210414</td>\n",
              "      <td>0.124499</td>\n",
              "      <td>-0.258968</td>\n",
              "    </tr>\n",
              "    <tr>\n",
              "      <th>condition</th>\n",
              "      <td>-0.037815</td>\n",
              "      <td>-0.059231</td>\n",
              "      <td>1.262666</td>\n",
              "      <td>0.005389</td>\n",
              "      <td>-0.160238</td>\n",
              "      <td>0.548675</td>\n",
              "      <td>0.158310</td>\n",
              "      <td>0.044704</td>\n",
              "      <td>-0.020073</td>\n",
              "    </tr>\n",
              "    <tr>\n",
              "      <th>grade</th>\n",
              "      <td>-0.327199</td>\n",
              "      <td>0.015569</td>\n",
              "      <td>0.005389</td>\n",
              "      <td>1.516482</td>\n",
              "      <td>-0.035304</td>\n",
              "      <td>-0.757162</td>\n",
              "      <td>0.124251</td>\n",
              "      <td>-0.288357</td>\n",
              "      <td>0.048585</td>\n",
              "    </tr>\n",
              "    <tr>\n",
              "      <th>sqft_basement</th>\n",
              "      <td>-0.331505</td>\n",
              "      <td>-0.072306</td>\n",
              "      <td>-0.160238</td>\n",
              "      <td>-0.035304</td>\n",
              "      <td>1.195042</td>\n",
              "      <td>0.110819</td>\n",
              "      <td>-0.023427</td>\n",
              "      <td>-0.126145</td>\n",
              "      <td>0.202023</td>\n",
              "    </tr>\n",
              "    <tr>\n",
              "      <th>yr_built</th>\n",
              "      <td>-0.049181</td>\n",
              "      <td>0.320117</td>\n",
              "      <td>0.548675</td>\n",
              "      <td>-0.757162</td>\n",
              "      <td>0.110819</td>\n",
              "      <td>2.025532</td>\n",
              "      <td>0.195277</td>\n",
              "      <td>0.311398</td>\n",
              "      <td>-0.524361</td>\n",
              "    </tr>\n",
              "    <tr>\n",
              "      <th>zipcode</th>\n",
              "      <td>0.037188</td>\n",
              "      <td>0.210414</td>\n",
              "      <td>0.158310</td>\n",
              "      <td>0.124251</td>\n",
              "      <td>-0.023427</td>\n",
              "      <td>0.195277</td>\n",
              "      <td>1.715010</td>\n",
              "      <td>-0.330890</td>\n",
              "      <td>0.788194</td>\n",
              "    </tr>\n",
              "    <tr>\n",
              "      <th>lat</th>\n",
              "      <td>0.100082</td>\n",
              "      <td>0.124499</td>\n",
              "      <td>0.044704</td>\n",
              "      <td>-0.288357</td>\n",
              "      <td>-0.126145</td>\n",
              "      <td>0.311398</td>\n",
              "      <td>-0.330890</td>\n",
              "      <td>1.197476</td>\n",
              "      <td>-0.135293</td>\n",
              "    </tr>\n",
              "    <tr>\n",
              "      <th>long</th>\n",
              "      <td>-0.124676</td>\n",
              "      <td>-0.258968</td>\n",
              "      <td>-0.020073</td>\n",
              "      <td>0.048585</td>\n",
              "      <td>0.202023</td>\n",
              "      <td>-0.524361</td>\n",
              "      <td>0.788194</td>\n",
              "      <td>-0.135293</td>\n",
              "      <td>1.768815</td>\n",
              "    </tr>\n",
              "  </tbody>\n",
              "</table>\n",
              "</div>"
            ],
            "text/plain": [
              "               bedrooms  sqft_lot  condition  ...   zipcode       lat      long\n",
              "bedrooms       1.260310 -0.180608  -0.037815  ...  0.037188  0.100082 -0.124676\n",
              "sqft_lot      -0.180608  1.215587  -0.059231  ...  0.210414  0.124499 -0.258968\n",
              "condition     -0.037815 -0.059231   1.262666  ...  0.158310  0.044704 -0.020073\n",
              "grade         -0.327199  0.015569   0.005389  ...  0.124251 -0.288357  0.048585\n",
              "sqft_basement -0.331505 -0.072306  -0.160238  ... -0.023427 -0.126145  0.202023\n",
              "yr_built      -0.049181  0.320117   0.548675  ...  0.195277  0.311398 -0.524361\n",
              "zipcode        0.037188  0.210414   0.158310  ...  1.715010 -0.330890  0.788194\n",
              "lat            0.100082  0.124499   0.044704  ... -0.330890  1.197476 -0.135293\n",
              "long          -0.124676 -0.258968  -0.020073  ...  0.788194 -0.135293  1.768815\n",
              "\n",
              "[9 rows x 9 columns]"
            ]
          },
          "metadata": {
            "tags": []
          },
          "execution_count": 1253
        }
      ]
    },
    {
      "cell_type": "markdown",
      "metadata": {
        "id": "oTD4QE1etEHn",
        "colab_type": "text"
      },
      "source": [
        "No multi-colinearity detected as the VIF are 1 and 2 only and none is heading to 5 or greater than 5"
      ]
    },
    {
      "cell_type": "code",
      "metadata": {
        "id": "RufFHf2AeKvG",
        "colab_type": "code",
        "colab": {}
      },
      "source": [
        "from sklearn.model_selection import train_test_split\n",
        "x_train,x_test,y_train,y_test = train_test_split(x,y,test_size = 0.2,random_state = 100)"
      ],
      "execution_count": 1254,
      "outputs": []
    },
    {
      "cell_type": "code",
      "metadata": {
        "id": "jZz1xGTfePgl",
        "colab_type": "code",
        "colab": {}
      },
      "source": [
        "from sklearn.linear_model import LinearRegression\n",
        "lm = LinearRegression()\n",
        "lm = lm.fit(x_train,y_train) "
      ],
      "execution_count": 1255,
      "outputs": []
    },
    {
      "cell_type": "code",
      "metadata": {
        "id": "wg103DkgeSgm",
        "colab_type": "code",
        "colab": {
          "base_uri": "https://localhost:8080/",
          "height": 70
        },
        "outputId": "164db675-9821-4a13-df10-6abf6bda8e35"
      },
      "source": [
        "lm.coef_"
      ],
      "execution_count": 1256,
      "outputs": [
        {
          "output_type": "execute_result",
          "data": {
            "text/plain": [
              "array([ 2.78773327e+04, -6.08372677e+00,  2.58227753e+04,  1.30795515e+05,\n",
              "        4.29941442e+01, -1.62327648e+03, -2.24363190e+02,  5.30011713e+05,\n",
              "        1.27274244e+05])"
            ]
          },
          "metadata": {
            "tags": []
          },
          "execution_count": 1256
        }
      ]
    },
    {
      "cell_type": "code",
      "metadata": {
        "id": "1jju4hhbeVI_",
        "colab_type": "code",
        "colab": {
          "base_uri": "https://localhost:8080/",
          "height": 317
        },
        "outputId": "936d3c16-77ed-405f-d535-b7765b45077a"
      },
      "source": [
        "\n",
        "coefficients = pd.concat([pd.DataFrame(x_train.columns),pd.DataFrame(np.transpose(lm.coef_))], axis = 1)\n",
        "coof= coefficients.set_axis(['Variable', 'Co-effients'], axis=1, inplace=False)\n",
        "coof"
      ],
      "execution_count": 1257,
      "outputs": [
        {
          "output_type": "execute_result",
          "data": {
            "text/html": [
              "<div>\n",
              "<style scoped>\n",
              "    .dataframe tbody tr th:only-of-type {\n",
              "        vertical-align: middle;\n",
              "    }\n",
              "\n",
              "    .dataframe tbody tr th {\n",
              "        vertical-align: top;\n",
              "    }\n",
              "\n",
              "    .dataframe thead th {\n",
              "        text-align: right;\n",
              "    }\n",
              "</style>\n",
              "<table border=\"1\" class=\"dataframe\">\n",
              "  <thead>\n",
              "    <tr style=\"text-align: right;\">\n",
              "      <th></th>\n",
              "      <th>Variable</th>\n",
              "      <th>Co-effients</th>\n",
              "    </tr>\n",
              "  </thead>\n",
              "  <tbody>\n",
              "    <tr>\n",
              "      <th>0</th>\n",
              "      <td>bedrooms</td>\n",
              "      <td>27877.332682</td>\n",
              "    </tr>\n",
              "    <tr>\n",
              "      <th>1</th>\n",
              "      <td>sqft_lot</td>\n",
              "      <td>-6.083727</td>\n",
              "    </tr>\n",
              "    <tr>\n",
              "      <th>2</th>\n",
              "      <td>condition</td>\n",
              "      <td>25822.775306</td>\n",
              "    </tr>\n",
              "    <tr>\n",
              "      <th>3</th>\n",
              "      <td>grade</td>\n",
              "      <td>130795.514715</td>\n",
              "    </tr>\n",
              "    <tr>\n",
              "      <th>4</th>\n",
              "      <td>sqft_basement</td>\n",
              "      <td>42.994144</td>\n",
              "    </tr>\n",
              "    <tr>\n",
              "      <th>5</th>\n",
              "      <td>yr_built</td>\n",
              "      <td>-1623.276482</td>\n",
              "    </tr>\n",
              "    <tr>\n",
              "      <th>6</th>\n",
              "      <td>zipcode</td>\n",
              "      <td>-224.363190</td>\n",
              "    </tr>\n",
              "    <tr>\n",
              "      <th>7</th>\n",
              "      <td>lat</td>\n",
              "      <td>530011.713090</td>\n",
              "    </tr>\n",
              "    <tr>\n",
              "      <th>8</th>\n",
              "      <td>long</td>\n",
              "      <td>127274.243744</td>\n",
              "    </tr>\n",
              "  </tbody>\n",
              "</table>\n",
              "</div>"
            ],
            "text/plain": [
              "        Variable    Co-effients\n",
              "0       bedrooms   27877.332682\n",
              "1       sqft_lot      -6.083727\n",
              "2      condition   25822.775306\n",
              "3          grade  130795.514715\n",
              "4  sqft_basement      42.994144\n",
              "5       yr_built   -1623.276482\n",
              "6        zipcode    -224.363190\n",
              "7            lat  530011.713090\n",
              "8           long  127274.243744"
            ]
          },
          "metadata": {
            "tags": []
          },
          "execution_count": 1257
        }
      ]
    },
    {
      "cell_type": "code",
      "metadata": {
        "id": "0iJJxHZF90mf",
        "colab_type": "code",
        "colab": {
          "base_uri": "https://localhost:8080/",
          "height": 281
        },
        "outputId": "1dbe3ac6-8c0c-470a-f751-0fda72ba4681"
      },
      "source": [
        "# Plot the coefficients in descending order\n",
        "w = pd.DataFrame()\n",
        "w['Var'] = x.columns\n",
        "w = w.set_index('Var') # Set the variable names as the index\n",
        "w['beta'] = lm.coef_\n",
        "\n",
        "w = w.sort_values(by='beta')\n",
        "w['beta'].plot.barh()\n",
        "plt.title('OLS')\n",
        "fig.tight_layout()\n",
        "plt.show()"
      ],
      "execution_count": 1258,
      "outputs": [
        {
          "output_type": "display_data",
          "data": {
            "image/png": "[encoded data removed]",
            "text/plain": [
              "<Figure size 432x288 with 1 Axes>"
            ]
          },
          "metadata": {
            "tags": [],
            "needs_background": "light"
          }
        }
      ]
    },
    {
      "cell_type": "markdown",
      "metadata": {
        "id": "IACWGBkmTIcY",
        "colab_type": "text"
      },
      "source": [
        "We can see that coefficients of latitude, grade, longitude , bedrooms and condition is much higher as compared to rest of the coefficients. Therefore the prices of the houses would be more driven by these features.\n",
        "\n",
        " We can reduce the magnitude of coefficients in our model by carrying out different types of regression techniques which uses regularization to overcome this problem."
      ]
    },
    {
      "cell_type": "code",
      "metadata": {
        "id": "r_S651irebVF",
        "colab_type": "code",
        "colab": {
          "base_uri": "https://localhost:8080/",
          "height": 34
        },
        "outputId": "2408db50-e672-4237-e357-1863e48190c9"
      },
      "source": [
        "#When all the independent variables are at 0 \n",
        "lm.intercept_"
      ],
      "execution_count": 1259,
      "outputs": [
        {
          "output_type": "execute_result",
          "data": {
            "text/plain": [
              "14883239.600982131"
            ]
          },
          "metadata": {
            "tags": []
          },
          "execution_count": 1259
        }
      ]
    },
    {
      "cell_type": "markdown",
      "metadata": {
        "id": "IUKucuqMTsz0",
        "colab_type": "text"
      },
      "source": [
        "The price of a house is 14883239 when the other variables are at 0 "
      ]
    },
    {
      "cell_type": "code",
      "metadata": {
        "id": "ZawHST81edFU",
        "colab_type": "code",
        "colab": {}
      },
      "source": [
        "y_pred = lm.predict(x_test)"
      ],
      "execution_count": 1260,
      "outputs": []
    },
    {
      "cell_type": "code",
      "metadata": {
        "id": "BLsRtPY5ejh2",
        "colab_type": "code",
        "colab": {
          "base_uri": "https://localhost:8080/",
          "height": 34
        },
        "outputId": "5cfe6ad1-1613-4e14-dfc3-7d611cd0c184"
      },
      "source": [
        "from sklearn.metrics import r2_score\n",
        "r2_score(y_test,y_pred)"
      ],
      "execution_count": 1261,
      "outputs": [
        {
          "output_type": "execute_result",
          "data": {
            "text/plain": [
              "0.5657518335882237"
            ]
          },
          "metadata": {
            "tags": []
          },
          "execution_count": 1261
        }
      ]
    },
    {
      "cell_type": "markdown",
      "metadata": {
        "id": "ZKGX34Uoqrzy",
        "colab_type": "text"
      },
      "source": [
        "The linear model will have a 56.57% accuracy in predicting the prices of the houses in future "
      ]
    },
    {
      "cell_type": "code",
      "metadata": {
        "id": "zZq3gpCrenI8",
        "colab_type": "code",
        "colab": {
          "base_uri": "https://localhost:8080/",
          "height": 34
        },
        "outputId": "80e6f6a6-db70-4cdd-f4f4-558d0f503437"
      },
      "source": [
        "print(\"The mean squared error for the linear model:\",metrics.mean_squared_error(y_test, y_pred))"
      ],
      "execution_count": 1262,
      "outputs": [
        {
          "output_type": "stream",
          "text": [
            "The mean squared error for the linear model: 13939180229.833775\n"
          ],
          "name": "stdout"
        }
      ]
    },
    {
      "cell_type": "code",
      "metadata": {
        "id": "NE9jaHWve0Iv",
        "colab_type": "code",
        "colab": {
          "base_uri": "https://localhost:8080/",
          "height": 278
        },
        "outputId": "711cbb40-252d-4931-dddc-44c5bd5afb43"
      },
      "source": [
        "#residual plot \n",
        "import matplotlib.pyplot as plt\n",
        "residuals = np.subtract(y_pred, y_test)\n",
        "plt.scatter(y_pred, residuals, color='black')\n",
        "plt.ylabel('residual')\n",
        "plt.xlabel('fitted values')\n",
        "plt.axhline(y= residuals.mean(), color='red', linewidth=1)\n",
        "plt.show()"
      ],
      "execution_count": 1263,
      "outputs": [
        {
          "output_type": "display_data",
          "data": {
            "image/png": "[encoded data removed]",
            "text/plain": [
              "<Figure size 432x288 with 1 Axes>"
            ]
          },
          "metadata": {
            "tags": [],
            "needs_background": "light"
          }
        }
      ]
    },
    {
      "cell_type": "markdown",
      "metadata": {
        "id": "FEqajBwbtk0u",
        "colab_type": "text"
      },
      "source": [
        "This residual plot shows that there is no overfitting and underfitting of data\n",
        "And having more residuals close to 0 indicating model is fairly correct in predicting "
      ]
    },
    {
      "cell_type": "code",
      "metadata": {
        "id": "2pZLD_gde-MH",
        "colab_type": "code",
        "colab": {
          "base_uri": "https://localhost:8080/",
          "height": 52
        },
        "outputId": "fd32645b-55e1-495b-cd15-ad94bdb44d50"
      },
      "source": [
        "#Checking for heteroskedascicity of model \n",
        "import scipy as sp\n",
        "\n",
        "test_result, p_value = sp.stats.bartlett(y_pred, residuals)\n",
        "\n",
        "# To interpret the results we must also compute a critical value of the chi squared distribution\n",
        "degree_of_freedom = len(y_pred)-1\n",
        "probability = 1 - p_value\n",
        "\n",
        "critical_value = sp.stats.chi2.ppf(probability, degree_of_freedom)\n",
        "print(critical_value)\n",
        "\n",
        "# If the test_result is greater than the critical value, then we reject our null\n",
        "# hypothesis. This would mean that there are patterns to the variance of the data\n",
        "\n",
        "# Otherwise, we can identify no patterns, and we accept the null hypothesis that \n",
        "# the variance is homogeneous across our data\n",
        "\n",
        "if (test_result > critical_value):\n",
        "  print('the variances are unequal, and the model should be reassessed')\n",
        "else:\n",
        "  print('the variances are homogeneous!')\n"
      ],
      "execution_count": 1264,
      "outputs": [
        {
          "output_type": "stream",
          "text": [
            "inf\n",
            "the variances are homogeneous!\n"
          ],
          "name": "stdout"
        }
      ]
    },
    {
      "cell_type": "markdown",
      "metadata": {
        "id": "fAqNKKV4t9gd",
        "colab_type": "text"
      },
      "source": [
        "# Quantile Regression "
      ]
    },
    {
      "cell_type": "markdown",
      "metadata": {
        "id": "yByklvV0UJrr",
        "colab_type": "text"
      },
      "source": [
        "We are trying to figure out whether the co-effecients change when we have low, medium and high prices of houses given the Principapal Components of the model "
      ]
    },
    {
      "cell_type": "code",
      "metadata": {
        "id": "xmm4ymBaHhcP",
        "colab_type": "code",
        "colab": {}
      },
      "source": [
        "from sklearn.preprocessing import StandardScaler\n",
        "from scipy import stats\n",
        "from sklearn.decomposition import PCA\n",
        "import statsmodels.formula.api as sm"
      ],
      "execution_count": 1265,
      "outputs": []
    },
    {
      "cell_type": "code",
      "metadata": {
        "id": "h9lQMssVHCXS",
        "colab_type": "code",
        "colab": {}
      },
      "source": [
        "drop=['id','price']\n",
        "X = house_data.drop(drop, axis=1)\n",
        "y = house_data['price']"
      ],
      "execution_count": 1266,
      "outputs": []
    },
    {
      "cell_type": "code",
      "metadata": {
        "id": "sFoD_8iN-jIR",
        "colab_type": "code",
        "colab": {
          "base_uri": "https://localhost:8080/",
          "height": 406
        },
        "outputId": "771046b0-cc6f-433c-e5ec-69957edeef1d"
      },
      "source": [
        "pca = PCA(n_components = 10)\n",
        "principalComponents = pca.fit_transform(X)\n",
        "principalDf = pd.DataFrame(data = principalComponents\n",
        "             , columns = ['PrincComp_1', 'PrincComp_2','PrincComp_3','PrincComp_4','PrincComp_5', 'PrincComp_6' ,'PrincComp_7' , 'PrincComp_8' ,'PrincComp_9' , 'PrincComp_10'])\n",
        "principalDf \n"
      ],
      "execution_count": 1267,
      "outputs": [
        {
          "output_type": "execute_result",
          "data": {
            "text/html": [
              "<div>\n",
              "<style scoped>\n",
              "    .dataframe tbody tr th:only-of-type {\n",
              "        vertical-align: middle;\n",
              "    }\n",
              "\n",
              "    .dataframe tbody tr th {\n",
              "        vertical-align: top;\n",
              "    }\n",
              "\n",
              "    .dataframe thead th {\n",
              "        text-align: right;\n",
              "    }\n",
              "</style>\n",
              "<table border=\"1\" class=\"dataframe\">\n",
              "  <thead>\n",
              "    <tr style=\"text-align: right;\">\n",
              "      <th></th>\n",
              "      <th>PrincComp_1</th>\n",
              "      <th>PrincComp_2</th>\n",
              "      <th>PrincComp_3</th>\n",
              "      <th>PrincComp_4</th>\n",
              "      <th>PrincComp_5</th>\n",
              "      <th>PrincComp_6</th>\n",
              "      <th>PrincComp_7</th>\n",
              "      <th>PrincComp_8</th>\n",
              "      <th>PrincComp_9</th>\n",
              "      <th>PrincComp_10</th>\n",
              "    </tr>\n",
              "  </thead>\n",
              "  <tbody>\n",
              "    <tr>\n",
              "      <th>0</th>\n",
              "      <td>-9462.590517</td>\n",
              "      <td>-1054.098648</td>\n",
              "      <td>-233.813373</td>\n",
              "      <td>-39.272206</td>\n",
              "      <td>92.649403</td>\n",
              "      <td>-5.214644</td>\n",
              "      <td>0.144025</td>\n",
              "      <td>-0.044639</td>\n",
              "      <td>-0.104897</td>\n",
              "      <td>0.357905</td>\n",
              "    </tr>\n",
              "    <tr>\n",
              "      <th>1</th>\n",
              "      <td>-7861.425060</td>\n",
              "      <td>701.048551</td>\n",
              "      <td>264.193398</td>\n",
              "      <td>1878.443944</td>\n",
              "      <td>32.636903</td>\n",
              "      <td>-12.236434</td>\n",
              "      <td>0.461048</td>\n",
              "      <td>-1.249911</td>\n",
              "      <td>0.464381</td>\n",
              "      <td>-0.081154</td>\n",
              "    </tr>\n",
              "    <tr>\n",
              "      <th>2</th>\n",
              "      <td>-5115.705542</td>\n",
              "      <td>-1651.331300</td>\n",
              "      <td>-163.007806</td>\n",
              "      <td>-38.470837</td>\n",
              "      <td>-58.597938</td>\n",
              "      <td>35.997963</td>\n",
              "      <td>-0.554840</td>\n",
              "      <td>-0.542043</td>\n",
              "      <td>0.191609</td>\n",
              "      <td>0.735057</td>\n",
              "    </tr>\n",
              "    <tr>\n",
              "      <th>3</th>\n",
              "      <td>-10109.910710</td>\n",
              "      <td>-459.022363</td>\n",
              "      <td>808.135601</td>\n",
              "      <td>-166.105498</td>\n",
              "      <td>39.724442</td>\n",
              "      <td>-14.292398</td>\n",
              "      <td>0.962893</td>\n",
              "      <td>0.437639</td>\n",
              "      <td>-0.162676</td>\n",
              "      <td>-1.464328</td>\n",
              "    </tr>\n",
              "    <tr>\n",
              "      <th>4</th>\n",
              "      <td>-7028.852738</td>\n",
              "      <td>-363.968921</td>\n",
              "      <td>-320.973101</td>\n",
              "      <td>-42.773689</td>\n",
              "      <td>-5.865278</td>\n",
              "      <td>-13.499730</td>\n",
              "      <td>-0.298579</td>\n",
              "      <td>0.020669</td>\n",
              "      <td>-0.324646</td>\n",
              "      <td>0.190359</td>\n",
              "    </tr>\n",
              "    <tr>\n",
              "      <th>...</th>\n",
              "      <td>...</td>\n",
              "      <td>...</td>\n",
              "      <td>...</td>\n",
              "      <td>...</td>\n",
              "      <td>...</td>\n",
              "      <td>...</td>\n",
              "      <td>...</td>\n",
              "      <td>...</td>\n",
              "      <td>...</td>\n",
              "      <td>...</td>\n",
              "    </tr>\n",
              "    <tr>\n",
              "      <th>21608</th>\n",
              "      <td>-13978.884645</td>\n",
              "      <td>-537.763870</td>\n",
              "      <td>-298.077559</td>\n",
              "      <td>-42.019305</td>\n",
              "      <td>15.653128</td>\n",
              "      <td>-41.618739</td>\n",
              "      <td>-0.206690</td>\n",
              "      <td>0.377491</td>\n",
              "      <td>-0.495419</td>\n",
              "      <td>0.040703</td>\n",
              "    </tr>\n",
              "    <tr>\n",
              "      <th>21609</th>\n",
              "      <td>-9291.102361</td>\n",
              "      <td>531.774078</td>\n",
              "      <td>-430.017235</td>\n",
              "      <td>-45.255207</td>\n",
              "      <td>71.848341</td>\n",
              "      <td>-44.115506</td>\n",
              "      <td>0.778501</td>\n",
              "      <td>0.124545</td>\n",
              "      <td>0.160999</td>\n",
              "      <td>-0.104029</td>\n",
              "    </tr>\n",
              "    <tr>\n",
              "      <th>21610</th>\n",
              "      <td>-13763.723162</td>\n",
              "      <td>-1255.072969</td>\n",
              "      <td>-209.391167</td>\n",
              "      <td>-39.536525</td>\n",
              "      <td>46.879393</td>\n",
              "      <td>-54.690831</td>\n",
              "      <td>-0.499925</td>\n",
              "      <td>-0.619977</td>\n",
              "      <td>0.269419</td>\n",
              "      <td>-0.133392</td>\n",
              "    </tr>\n",
              "    <tr>\n",
              "      <th>21611</th>\n",
              "      <td>-12721.364379</td>\n",
              "      <td>-445.506099</td>\n",
              "      <td>-310.630060</td>\n",
              "      <td>-42.862345</td>\n",
              "      <td>-57.067478</td>\n",
              "      <td>-23.315924</td>\n",
              "      <td>-0.346969</td>\n",
              "      <td>0.268121</td>\n",
              "      <td>-0.382634</td>\n",
              "      <td>0.164151</td>\n",
              "    </tr>\n",
              "    <tr>\n",
              "      <th>21612</th>\n",
              "      <td>-14037.719329</td>\n",
              "      <td>-1253.631055</td>\n",
              "      <td>-209.498645</td>\n",
              "      <td>-39.511984</td>\n",
              "      <td>47.014661</td>\n",
              "      <td>-53.695552</td>\n",
              "      <td>-0.504324</td>\n",
              "      <td>-0.617876</td>\n",
              "      <td>0.260697</td>\n",
              "      <td>-0.124077</td>\n",
              "    </tr>\n",
              "  </tbody>\n",
              "</table>\n",
              "<p>21613 rows × 10 columns</p>\n",
              "</div>"
            ],
            "text/plain": [
              "        PrincComp_1  PrincComp_2  ...  PrincComp_9  PrincComp_10\n",
              "0      -9462.590517 -1054.098648  ...    -0.104897      0.357905\n",
              "1      -7861.425060   701.048551  ...     0.464381     -0.081154\n",
              "2      -5115.705542 -1651.331300  ...     0.191609      0.735057\n",
              "3     -10109.910710  -459.022363  ...    -0.162676     -1.464328\n",
              "4      -7028.852738  -363.968921  ...    -0.324646      0.190359\n",
              "...             ...          ...  ...          ...           ...\n",
              "21608 -13978.884645  -537.763870  ...    -0.495419      0.040703\n",
              "21609  -9291.102361   531.774078  ...     0.160999     -0.104029\n",
              "21610 -13763.723162 -1255.072969  ...     0.269419     -0.133392\n",
              "21611 -12721.364379  -445.506099  ...    -0.382634      0.164151\n",
              "21612 -14037.719329 -1253.631055  ...     0.260697     -0.124077\n",
              "\n",
              "[21613 rows x 10 columns]"
            ]
          },
          "metadata": {
            "tags": []
          },
          "execution_count": 1267
        }
      ]
    },
    {
      "cell_type": "code",
      "metadata": {
        "id": "tleBxb-aKn0E",
        "colab_type": "code",
        "colab": {}
      },
      "source": [
        "principalDf['price'] = y"
      ],
      "execution_count": 1268,
      "outputs": []
    },
    {
      "cell_type": "code",
      "metadata": {
        "id": "DMRfGlaTVKI4",
        "colab_type": "code",
        "colab": {
          "base_uri": "https://localhost:8080/",
          "height": 197
        },
        "outputId": "433d853f-0fad-4784-eb85-54b20f3e3703"
      },
      "source": [
        "variables= pd.DataFrame(pca.components_ ,columns=X.columns,index = ['PrincComp_1', 'PrincComp_2','PrincComp_3','PrincComp_4','PrincComp_5', 'PrincComp_6' ,'PrincComp_7' , 'PrincComp_8' ,'PrincComp_9' , 'PrincComp_10'])\n",
        "variables.head()"
      ],
      "execution_count": 1269,
      "outputs": [
        {
          "output_type": "execute_result",
          "data": {
            "text/html": [
              "<div>\n",
              "<style scoped>\n",
              "    .dataframe tbody tr th:only-of-type {\n",
              "        vertical-align: middle;\n",
              "    }\n",
              "\n",
              "    .dataframe tbody tr th {\n",
              "        vertical-align: top;\n",
              "    }\n",
              "\n",
              "    .dataframe thead th {\n",
              "        text-align: right;\n",
              "    }\n",
              "</style>\n",
              "<table border=\"1\" class=\"dataframe\">\n",
              "  <thead>\n",
              "    <tr style=\"text-align: right;\">\n",
              "      <th></th>\n",
              "      <th>bedrooms</th>\n",
              "      <th>bathrooms</th>\n",
              "      <th>sqft_living</th>\n",
              "      <th>sqft_lot</th>\n",
              "      <th>floors</th>\n",
              "      <th>waterfront</th>\n",
              "      <th>view</th>\n",
              "      <th>condition</th>\n",
              "      <th>grade</th>\n",
              "      <th>sqft_above</th>\n",
              "      <th>sqft_basement</th>\n",
              "      <th>yr_built</th>\n",
              "      <th>yr_renovated</th>\n",
              "      <th>zipcode</th>\n",
              "      <th>lat</th>\n",
              "      <th>long</th>\n",
              "    </tr>\n",
              "  </thead>\n",
              "  <tbody>\n",
              "    <tr>\n",
              "      <th>PrincComp_1</th>\n",
              "      <td>7.137402e-07</td>\n",
              "      <td>1.633481e-06</td>\n",
              "      <td>0.003835</td>\n",
              "      <td>0.999986</td>\n",
              "      <td>-6.691263e-08</td>\n",
              "      <td>4.515275e-08</td>\n",
              "      <td>0.000001</td>\n",
              "      <td>-1.409909e-07</td>\n",
              "      <td>0.000003</td>\n",
              "      <td>0.003672</td>\n",
              "      <td>0.000164</td>\n",
              "      <td>0.000038</td>\n",
              "      <td>0.000074</td>\n",
              "      <td>-0.000167</td>\n",
              "      <td>-2.866066e-07</td>\n",
              "      <td>7.804848e-07</td>\n",
              "    </tr>\n",
              "    <tr>\n",
              "      <th>PrincComp_2</th>\n",
              "      <td>4.400233e-04</td>\n",
              "      <td>4.866091e-04</td>\n",
              "      <td>0.751185</td>\n",
              "      <td>-0.005295</td>\n",
              "      <td>1.996912e-04</td>\n",
              "      <td>6.794629e-06</td>\n",
              "      <td>0.000155</td>\n",
              "      <td>-5.434074e-05</td>\n",
              "      <td>0.000770</td>\n",
              "      <td>0.652266</td>\n",
              "      <td>0.098919</td>\n",
              "      <td>0.009018</td>\n",
              "      <td>0.016903</td>\n",
              "      <td>-0.009444</td>\n",
              "      <td>5.884554e-06</td>\n",
              "      <td>2.964142e-05</td>\n",
              "    </tr>\n",
              "    <tr>\n",
              "      <th>PrincComp_3</th>\n",
              "      <td>2.782903e-04</td>\n",
              "      <td>1.282282e-04</td>\n",
              "      <td>0.316321</td>\n",
              "      <td>0.000445</td>\n",
              "      <td>-3.812211e-04</td>\n",
              "      <td>1.062965e-05</td>\n",
              "      <td>0.000329</td>\n",
              "      <td>2.480998e-04</td>\n",
              "      <td>-0.000093</td>\n",
              "      <td>-0.488855</td>\n",
              "      <td>0.805176</td>\n",
              "      <td>-0.014362</td>\n",
              "      <td>0.110609</td>\n",
              "      <td>0.014556</td>\n",
              "      <td>2.731912e-05</td>\n",
              "      <td>-6.080144e-05</td>\n",
              "    </tr>\n",
              "    <tr>\n",
              "      <th>PrincComp_4</th>\n",
              "      <td>-7.609743e-05</td>\n",
              "      <td>-6.071703e-07</td>\n",
              "      <td>-0.047920</td>\n",
              "      <td>-0.000033</td>\n",
              "      <td>5.281248e-05</td>\n",
              "      <td>1.725857e-05</td>\n",
              "      <td>0.000114</td>\n",
              "      <td>-1.394761e-04</td>\n",
              "      <td>-0.000057</td>\n",
              "      <td>0.043650</td>\n",
              "      <td>-0.091570</td>\n",
              "      <td>-0.015405</td>\n",
              "      <td>0.993538</td>\n",
              "      <td>0.007621</td>\n",
              "      <td>4.519706e-06</td>\n",
              "      <td>-1.791206e-05</td>\n",
              "    </tr>\n",
              "    <tr>\n",
              "      <th>PrincComp_5</th>\n",
              "      <td>-9.331661e-04</td>\n",
              "      <td>-1.094686e-03</td>\n",
              "      <td>0.003308</td>\n",
              "      <td>0.000107</td>\n",
              "      <td>6.452988e-04</td>\n",
              "      <td>7.020539e-05</td>\n",
              "      <td>0.001742</td>\n",
              "      <td>-2.063219e-04</td>\n",
              "      <td>-0.000333</td>\n",
              "      <td>0.014789</td>\n",
              "      <td>-0.011481</td>\n",
              "      <td>-0.164602</td>\n",
              "      <td>-0.011665</td>\n",
              "      <td>0.986104</td>\n",
              "      <td>7.176622e-04</td>\n",
              "      <td>-1.299736e-03</td>\n",
              "    </tr>\n",
              "  </tbody>\n",
              "</table>\n",
              "</div>"
            ],
            "text/plain": [
              "                 bedrooms     bathrooms  ...           lat          long\n",
              "PrincComp_1  7.137402e-07  1.633481e-06  ... -2.866066e-07  7.804848e-07\n",
              "PrincComp_2  4.400233e-04  4.866091e-04  ...  5.884554e-06  2.964142e-05\n",
              "PrincComp_3  2.782903e-04  1.282282e-04  ...  2.731912e-05 -6.080144e-05\n",
              "PrincComp_4 -7.609743e-05 -6.071703e-07  ...  4.519706e-06 -1.791206e-05\n",
              "PrincComp_5 -9.331661e-04 -1.094686e-03  ...  7.176622e-04 -1.299736e-03\n",
              "\n",
              "[5 rows x 16 columns]"
            ]
          },
          "metadata": {
            "tags": []
          },
          "execution_count": 1269
        }
      ]
    },
    {
      "cell_type": "code",
      "metadata": {
        "id": "yN7ClWEzfIaI",
        "colab_type": "code",
        "colab": {
          "base_uri": "https://localhost:8080/",
          "height": 1000
        },
        "outputId": "7b7f9d24-4bd2-4f7e-bef0-5b4ed494908f"
      },
      "source": [
        "import statsmodels.formula.api as smf\n",
        "\n",
        "mod = smf.quantreg('price ~ PrincComp_1 + PrincComp_2 +PrincComp_3 + PrincComp_4 +PrincComp_5 +PrincComp_6 + PrincComp_7 +PrincComp_8 + PrincComp_9 +PrincComp_10' , principalDf)\n",
        "\n",
        "res1 = mod.fit(q=.25)\n",
        "print(res1.summary())\n",
        "res2 = mod.fit(q=.5)\n",
        "print(res2.summary())\n",
        "res3 = mod.fit(q=.75)\n",
        "print(res3.summary())\n"
      ],
      "execution_count": 1270,
      "outputs": [
        {
          "output_type": "stream",
          "text": [
            "                         QuantReg Regression Results                          \n",
            "==============================================================================\n",
            "Dep. Variable:                  price   Pseudo R-squared:               0.3076\n",
            "Model:                       QuantReg   Bandwidth:                   2.176e+04\n",
            "Method:                 Least Squares   Sparsity:                    3.932e+05\n",
            "Date:                Fri, 25 Sep 2020   No. Observations:                21613\n",
            "Time:                        14:41:02   Df Residuals:                    21602\n",
            "                                        Df Model:                           10\n",
            "================================================================================\n",
            "                   coef    std err          t      P>|t|      [0.025      0.975]\n",
            "--------------------------------------------------------------------------------\n",
            "Intercept      4.14e+05   1163.432    355.830      0.000    4.12e+05    4.16e+05\n",
            "PrincComp_1      0.6476      0.025     25.448      0.000       0.598       0.697\n",
            "PrincComp_2    136.8961      0.892    153.468      0.000     135.148     138.644\n",
            "PrincComp_3     55.6094      2.211     25.156      0.000      51.276      59.942\n",
            "PrincComp_4     26.8647      2.832      9.486      0.000      21.314      32.416\n",
            "PrincComp_5    648.6544     24.792     26.164      0.000     600.060     697.248\n",
            "PrincComp_6   1104.9078     43.233     25.557      0.000    1020.168    1189.648\n",
            "PrincComp_7  -8.494e+04   1339.013    -63.438      0.000   -8.76e+04   -8.23e+04\n",
            "PrincComp_8   3.512e+04   1609.542     21.820      0.000     3.2e+04    3.83e+04\n",
            "PrincComp_9  -5.507e+04   1671.955    -32.938      0.000   -5.83e+04   -5.18e+04\n",
            "PrincComp_10 -1.247e+04   2000.549     -6.231      0.000   -1.64e+04   -8543.839\n",
            "================================================================================\n",
            "\n",
            "The condition number is large, 7.09e+04. This might indicate that there are\n",
            "strong multicollinearity or other numerical problems.\n",
            "                         QuantReg Regression Results                          \n",
            "==============================================================================\n",
            "Dep. Variable:                  price   Pseudo R-squared:               0.3878\n",
            "Model:                       QuantReg   Bandwidth:                   2.449e+04\n",
            "Method:                 Least Squares   Sparsity:                    3.354e+05\n",
            "Date:                Fri, 25 Sep 2020   No. Observations:                21613\n",
            "Time:                        14:41:06   Df Residuals:                    21602\n",
            "                                        Df Model:                           10\n",
            "================================================================================\n",
            "                   coef    std err          t      P>|t|      [0.025      0.975]\n",
            "--------------------------------------------------------------------------------\n",
            "Intercept     5.169e+05   1140.664    453.126      0.000    5.15e+05    5.19e+05\n",
            "PrincComp_1      0.7243      0.028     26.300      0.000       0.670       0.778\n",
            "PrincComp_2    167.5989      0.964    173.851      0.000     165.709     169.489\n",
            "PrincComp_3     85.7856      2.160     39.714      0.000      81.552      90.020\n",
            "PrincComp_4     44.2379      2.855     15.492      0.000      38.641      49.835\n",
            "PrincComp_5    578.5948     22.038     26.255      0.000     535.399     621.790\n",
            "PrincComp_6   1541.0017     46.758     32.957      0.000    1449.352    1632.652\n",
            "PrincComp_7  -1.006e+05   1395.538    -72.079      0.000   -1.03e+05   -9.79e+04\n",
            "PrincComp_8   7.189e+04   1627.428     44.174      0.000    6.87e+04    7.51e+04\n",
            "PrincComp_9  -6.096e+04   1733.514    -35.164      0.000   -6.44e+04   -5.76e+04\n",
            "PrincComp_10 -1.301e+04   1952.358     -6.662      0.000   -1.68e+04   -9179.976\n",
            "================================================================================\n",
            "\n",
            "The condition number is large, 7.09e+04. This might indicate that there are\n",
            "strong multicollinearity or other numerical problems.\n",
            "                         QuantReg Regression Results                          \n",
            "==============================================================================\n",
            "Dep. Variable:                  price   Pseudo R-squared:               0.4510\n",
            "Model:                       QuantReg   Bandwidth:                   2.243e+04\n",
            "Method:                 Least Squares   Sparsity:                    4.727e+05\n",
            "Date:                Fri, 25 Sep 2020   No. Observations:                21613\n",
            "Time:                        14:41:09   Df Residuals:                    21602\n",
            "                                        Df Model:                           10\n",
            "================================================================================\n",
            "                   coef    std err          t      P>|t|      [0.025      0.975]\n",
            "--------------------------------------------------------------------------------\n",
            "Intercept     6.259e+05   1392.556    449.445      0.000    6.23e+05    6.29e+05\n",
            "PrincComp_1      0.9064      0.039     23.191      0.000       0.830       0.983\n",
            "PrincComp_2    201.6911      1.343    150.233      0.000     199.060     204.323\n",
            "PrincComp_3    110.4403      2.605     42.397      0.000     105.335     115.546\n",
            "PrincComp_4     65.5255      3.452     18.983      0.000      58.760      72.291\n",
            "PrincComp_5    676.2247     25.946     26.063      0.000     625.369     727.081\n",
            "PrincComp_6   1900.1460     63.847     29.761      0.000    1775.001    2025.291\n",
            "PrincComp_7  -1.238e+05   1813.592    -68.260      0.000   -1.27e+05    -1.2e+05\n",
            "PrincComp_8   8.596e+04   2142.020     40.131      0.000    8.18e+04    9.02e+04\n",
            "PrincComp_9  -5.266e+04   2215.858    -23.765      0.000    -5.7e+04   -4.83e+04\n",
            "PrincComp_10  -1.15e+04   2404.503     -4.781      0.000   -1.62e+04   -6783.049\n",
            "================================================================================\n",
            "\n",
            "The condition number is large, 7.09e+04. This might indicate that there are\n",
            "strong multicollinearity or other numerical problems.\n"
          ],
          "name": "stdout"
        }
      ]
    },
    {
      "cell_type": "code",
      "metadata": {
        "id": "auSHgnkoL_d1",
        "colab_type": "code",
        "colab": {}
      },
      "source": [
        "from sklearn.model_selection import train_test_split\n",
        "X = principalDf.drop('price', axis=1)\n",
        "y = principalDf['price']\n",
        "x_train, x_test, y_train, y_test = train_test_split(X, y, test_size=0.2, random_state=0)\n",
        "\n"
      ],
      "execution_count": 1271,
      "outputs": []
    },
    {
      "cell_type": "code",
      "metadata": {
        "id": "AKs_toUEfg6-",
        "colab_type": "code",
        "colab": {
          "base_uri": "https://localhost:8080/",
          "height": 70
        },
        "outputId": "36f4c4e9-ac92-4c88-e462-ccee9e43ae42"
      },
      "source": [
        "import statsmodels.regression.quantile_regression as Q_reg\n",
        "\n",
        "quantiles = [0.25, 0.5, 0.75]\n",
        "\n",
        "# Get the model, and the cofficients in (a) - (b)\n",
        "def Qreg(q):\n",
        "   # (a) Modeling \n",
        "   mod = Q_reg.QuantReg(y_train, x_train).fit(q=q)\n",
        "    \n",
        "   # (b) Get the coefficients and the lower and upper bounds\n",
        "   coefs = pd.DataFrame()\n",
        "   coefs['param'] = mod.params\n",
        "   coefs = pd.concat([coefs,mod.conf_int()],axis=1) # \"mod.conf_int\" will give the lower and upper bounds\n",
        "   coefs['q'] = q\n",
        "   coefs.columns = ['coef','beta_lower','beta_upper','quantile']\n",
        "    \n",
        "   return coefs\n",
        "\n",
        "Qreg_coefs = pd.DataFrame()\n",
        "for q in quantiles:\n",
        "    coefs = Qreg(q)\n",
        "    Qreg_coefs = pd.concat([Qreg_coefs,coefs])\n",
        "\n",
        "# Get the R-squared for Q=0.25,0.5, 0.75\n",
        "q = 0.5\n",
        "Y_test_pred1 = Q_reg.QuantReg(y_train, x_train).fit(q=0.25).predict(x_test)\n",
        "Y_test_pred2 = Q_reg.QuantReg(y_train, x_train).fit(q=0.5).predict(x_test)\n",
        "Y_test_pred3 = Q_reg.QuantReg(y_train, x_train).fit(q=0.75).predict(x_test)\n",
        "r2 = metrics.r2_score(y_test,Y_test_pred1)\n",
        "print('R2 score for the 25th percentile is {}'.format(r2) ) # 0.490744\n",
        "r2  = metrics.r2_score(y_test,Y_test_pred2)\n",
        "print('R2 score for the 50th percentile is {}'.format(r2) )\n",
        "r2= metrics.r2_score(y_test,Y_test_pred3)\n",
        "print('R2 score for the 75th percentile is {}'.format(r2) )"
      ],
      "execution_count": 1272,
      "outputs": [
        {
          "output_type": "stream",
          "text": [
            "R2 score for the 25th percentile is -2.0186870954471132\n",
            "R2 score for the 50th percentile is -2.070297781327246\n",
            "R2 score for the 75th percentile is -2.0794889304576762\n"
          ],
          "name": "stdout"
        }
      ]
    },
    {
      "cell_type": "markdown",
      "metadata": {
        "id": "_GCSOewDYBby",
        "colab_type": "text"
      },
      "source": [
        "A negative R2 is only possible with linear regression when either the intercept or the slope are constrained so that the \"best-fit\" line (given the constraint) fits worse than a horizontal line. With nonlinear regression, the R2 can be negative whenever the best-fit model (given the chosen equation, and its constraints, if any) fits the data worse than a horizontal line.\n",
        "\n",
        ". It simply means that the chosen model (with its constraints) fits the data really poorly."
      ]
    },
    {
      "cell_type": "code",
      "metadata": {
        "id": "4y_zHRI0fvUY",
        "colab_type": "code",
        "colab": {
          "base_uri": "https://localhost:8080/",
          "height": 296
        },
        "outputId": "83cae24e-abf3-4a51-e970-1c15006e9622"
      },
      "source": [
        "Qreg_coefs['coef_value'] = (Qreg_coefs['coef'] ) \n",
        "Qreg_coefs = Qreg_coefs.sort_values(by=['quantile','coef_value'])\n",
        "\n",
        "fig = plt.figure(figsize=(15, 4))\n",
        "\n",
        "n = len(quantiles)\n",
        "\n",
        "for i in range(n):\n",
        "    plt.subplot(1, n, i+1)\n",
        "    w = Qreg_coefs[Qreg_coefs['quantile']==quantiles[i]]\n",
        "    w['coef'].plot.barh()\n",
        "    plt.title('Quantile = ' + str(quantiles[i] ))\n",
        "\n",
        "fig.tight_layout()\n",
        "plt.show()"
      ],
      "execution_count": 1273,
      "outputs": [
        {
          "output_type": "display_data",
          "data": {
            "image/png": "[encoded data removed]",
            "text/plain": [
              "<Figure size 1080x288 with 3 Axes>"
            ]
          },
          "metadata": {
            "tags": [],
            "needs_background": "light"
          }
        }
      ]
    },
    {
      "cell_type": "markdown",
      "metadata": {
        "id": "nvvdWHWqZTdU",
        "colab_type": "text"
      },
      "source": [
        "When predicting higher prices, the longitude, zip_codes and viiew will  highly affect prices.\n",
        "\n",
        "while in prediicting lower  and medium prices of houses, prices will be more driven by sqft_living,\tsqft_lot and floors features "
      ]
    },
    {
      "cell_type": "code",
      "metadata": {
        "id": "tYNtoyy0f33f",
        "colab_type": "code",
        "colab": {}
      },
      "source": [
        "quantiles = [0.25,0.5,0.75]\n",
        "models = []\n",
        "params = []\n",
        "\n",
        "# We build models for each quantile in our list quantiles inside a for loop\n",
        "# As we build these models we also store the model parameters in a list called params. \n",
        "for qt in quantiles: \n",
        "\tres = mod.fit(q = qt )\n",
        "\tmodels.append(res)\n",
        "\tparams.append([qt, res.params['Intercept'], res.params['PrincComp_1'],res.params['PrincComp_2'],res.params['PrincComp_3'],res.params['PrincComp_4'],res.params['PrincComp_5'],res.params['PrincComp_6'],res.params['PrincComp_7'],res.params['PrincComp_8'],res.params['PrincComp_9'] ,res.params['PrincComp_10'] ] + res.conf_int().loc['PrincComp_1'].tolist())\n",
        "\n",
        "# Lastly we make a dataframe of the same name, so we we can view our different models.\n",
        "params = pd.DataFrame(data = params, columns = ['qt', 'intercept','PrincComp_1_coef','PrincComp_2_coef','PrincComp_3_coef','PrincComp_4_coef','PrincComp_5_coef','PrincComp_6_coef', 'PrincComp_7_ coef', 'PrincComp_8.coef', 'PrincComp_9_coef' ,'PrincComp_10_coef' ,'cf_lower_bound', 'cf_upper_bound'])\n",
        "\n"
      ],
      "execution_count": 1274,
      "outputs": []
    },
    {
      "cell_type": "code",
      "metadata": {
        "id": "0Uc7vjh0mHXD",
        "colab_type": "code",
        "colab": {
          "base_uri": "https://localhost:8080/",
          "height": 174
        },
        "outputId": "c2af6b37-52a4-44e0-a37e-12df5acc209a"
      },
      "source": [
        "params"
      ],
      "execution_count": 1275,
      "outputs": [
        {
          "output_type": "execute_result",
          "data": {
            "text/html": [
              "<div>\n",
              "<style scoped>\n",
              "    .dataframe tbody tr th:only-of-type {\n",
              "        vertical-align: middle;\n",
              "    }\n",
              "\n",
              "    .dataframe tbody tr th {\n",
              "        vertical-align: top;\n",
              "    }\n",
              "\n",
              "    .dataframe thead th {\n",
              "        text-align: right;\n",
              "    }\n",
              "</style>\n",
              "<table border=\"1\" class=\"dataframe\">\n",
              "  <thead>\n",
              "    <tr style=\"text-align: right;\">\n",
              "      <th></th>\n",
              "      <th>qt</th>\n",
              "      <th>intercept</th>\n",
              "      <th>PrincComp_1_coef</th>\n",
              "      <th>PrincComp_2_coef</th>\n",
              "      <th>PrincComp_3_coef</th>\n",
              "      <th>PrincComp_4_coef</th>\n",
              "      <th>PrincComp_5_coef</th>\n",
              "      <th>PrincComp_6_coef</th>\n",
              "      <th>PrincComp_7_ coef</th>\n",
              "      <th>PrincComp_8.coef</th>\n",
              "      <th>PrincComp_9_coef</th>\n",
              "      <th>PrincComp_10_coef</th>\n",
              "      <th>cf_lower_bound</th>\n",
              "      <th>cf_upper_bound</th>\n",
              "    </tr>\n",
              "  </thead>\n",
              "  <tbody>\n",
              "    <tr>\n",
              "      <th>0</th>\n",
              "      <td>0.25</td>\n",
              "      <td>413983.429244</td>\n",
              "      <td>0.647614</td>\n",
              "      <td>136.896076</td>\n",
              "      <td>55.609430</td>\n",
              "      <td>26.864716</td>\n",
              "      <td>648.654379</td>\n",
              "      <td>1104.907796</td>\n",
              "      <td>-84944.192791</td>\n",
              "      <td>35120.074083</td>\n",
              "      <td>-55070.125540</td>\n",
              "      <td>-12465.062657</td>\n",
              "      <td>0.597734</td>\n",
              "      <td>0.697495</td>\n",
              "    </tr>\n",
              "    <tr>\n",
              "      <th>1</th>\n",
              "      <td>0.50</td>\n",
              "      <td>516864.035059</td>\n",
              "      <td>0.724277</td>\n",
              "      <td>167.598924</td>\n",
              "      <td>85.785596</td>\n",
              "      <td>44.237949</td>\n",
              "      <td>578.594818</td>\n",
              "      <td>1541.001694</td>\n",
              "      <td>-100589.199504</td>\n",
              "      <td>71890.057594</td>\n",
              "      <td>-60957.156875</td>\n",
              "      <td>-13006.742227</td>\n",
              "      <td>0.670299</td>\n",
              "      <td>0.778255</td>\n",
              "    </tr>\n",
              "    <tr>\n",
              "      <th>2</th>\n",
              "      <td>0.75</td>\n",
              "      <td>625877.087117</td>\n",
              "      <td>0.906377</td>\n",
              "      <td>201.691149</td>\n",
              "      <td>110.440335</td>\n",
              "      <td>65.525466</td>\n",
              "      <td>676.224714</td>\n",
              "      <td>1900.146028</td>\n",
              "      <td>-123796.631292</td>\n",
              "      <td>85962.306873</td>\n",
              "      <td>-52659.641078</td>\n",
              "      <td>-11496.051781</td>\n",
              "      <td>0.829771</td>\n",
              "      <td>0.982982</td>\n",
              "    </tr>\n",
              "  </tbody>\n",
              "</table>\n",
              "</div>"
            ],
            "text/plain": [
              "     qt      intercept  ...  cf_lower_bound  cf_upper_bound\n",
              "0  0.25  413983.429244  ...        0.597734        0.697495\n",
              "1  0.50  516864.035059  ...        0.670299        0.778255\n",
              "2  0.75  625877.087117  ...        0.829771        0.982982\n",
              "\n",
              "[3 rows x 14 columns]"
            ]
          },
          "metadata": {
            "tags": []
          },
          "execution_count": 1275
        }
      ]
    },
    {
      "cell_type": "code",
      "metadata": {
        "id": "eHDo3ml1f_Zv",
        "colab_type": "code",
        "colab": {
          "base_uri": "https://localhost:8080/",
          "height": 70
        },
        "outputId": "015256ee-1545-41e8-9df2-8e59cfa80915"
      },
      "source": [
        "print(\"The mean squared error for the 25th regression:\",metrics.mean_squared_error(y_test, Y_test_pred1))\n",
        "print(\"The mean squared error for the 50th regression:\",metrics.mean_squared_error(y_test, Y_test_pred2))\n",
        "print(\"The mean squared error for the 75th regression:\",metrics.mean_squared_error(y_test, Y_test_pred3))\n"
      ],
      "execution_count": 1276,
      "outputs": [
        {
          "output_type": "stream",
          "text": [
            "The mean squared error for the 25th regression: 359480102704.7675\n",
            "The mean squared error for the 50th regression: 365626156957.5703\n",
            "The mean squared error for the 75th regression: 366720684190.40784\n"
          ],
          "name": "stdout"
        }
      ]
    },
    {
      "cell_type": "markdown",
      "metadata": {
        "id": "hiCmU4NGuuzh",
        "colab_type": "text"
      },
      "source": [
        "The MSEs of the quantiles are higher than the base model and hence are better suited for carrying out prediction for low, medium and high prices for houses "
      ]
    },
    {
      "cell_type": "markdown",
      "metadata": {
        "id": "f-0D80-7uJIH",
        "colab_type": "text"
      },
      "source": [
        "# Ridge regression "
      ]
    },
    {
      "cell_type": "markdown",
      "metadata": {
        "id": "OoYivXAHjQ44",
        "colab_type": "text"
      },
      "source": [
        "Ridge sums the squares of coefficient values (the L-2 norm) and multiplies it by some constant lambda. Compared to Lasso, this regularization term will decrease the values of coefficients, but is unable to force a coefficient to exactly 0."
      ]
    },
    {
      "cell_type": "code",
      "metadata": {
        "id": "4D_yleoG-Lqv",
        "colab_type": "code",
        "colab": {}
      },
      "source": [
        "drop=['id','price']\n",
        "X = house_data.drop(drop, axis=1)\n",
        "y = house_data['price']"
      ],
      "execution_count": 1277,
      "outputs": []
    },
    {
      "cell_type": "code",
      "metadata": {
        "id": "uKmRvv8YjNBC",
        "colab_type": "code",
        "colab": {}
      },
      "source": [
        "ridge = Ridge(normalize=True)\n",
        "search = GridSearchCV(estimator=ridge,param_grid={'alpha':np.logspace(-5,2,8)},scoring='neg_mean_squared_error',n_jobs=1,refit=True,cv=10)"
      ],
      "execution_count": 1278,
      "outputs": []
    },
    {
      "cell_type": "code",
      "metadata": {
        "id": "gABSk_KTjThm",
        "colab_type": "code",
        "colab": {
          "base_uri": "https://localhost:8080/",
          "height": 34
        },
        "outputId": "1b430000-1a03-4b9c-e1db-4cefef77f544"
      },
      "source": [
        "search.fit(X,y)\n",
        "abs(search.best_score_) "
      ],
      "execution_count": 1279,
      "outputs": [
        {
          "output_type": "execute_result",
          "data": {
            "text/plain": [
              "41033295736.8315"
            ]
          },
          "metadata": {
            "tags": []
          },
          "execution_count": 1279
        }
      ]
    },
    {
      "cell_type": "code",
      "metadata": {
        "id": "QzvETydbjVlX",
        "colab_type": "code",
        "colab": {
          "base_uri": "https://localhost:8080/",
          "height": 34
        },
        "outputId": "828c3dfe-74c1-4d9d-f837-f1a3b326707c"
      },
      "source": [
        "search.best_params_"
      ],
      "execution_count": 1280,
      "outputs": [
        {
          "output_type": "execute_result",
          "data": {
            "text/plain": [
              "{'alpha': 0.01}"
            ]
          },
          "metadata": {
            "tags": []
          },
          "execution_count": 1280
        }
      ]
    },
    {
      "cell_type": "code",
      "metadata": {
        "id": "29uqUAqZho9z",
        "colab_type": "code",
        "colab": {
          "base_uri": "https://localhost:8080/",
          "height": 34
        },
        "outputId": "492d91ad-5d26-4fe3-ca86-59639ac6eca0"
      },
      "source": [
        "ridge = Ridge(normalize=True,alpha=0.01)\n",
        "ridge.fit(X,y)\n",
        "ridge_model = (mean_squared_error(y,y_pred=ridge.predict(X)))\n",
        "print(\"The mean squared error for the ridge regression:\",ridge_model)\n",
        "        "
      ],
      "execution_count": 1281,
      "outputs": [
        {
          "output_type": "stream",
          "text": [
            "The mean squared error for the ridge regression: 40642620048.74137\n"
          ],
          "name": "stdout"
        }
      ]
    },
    {
      "cell_type": "code",
      "metadata": {
        "id": "vZDNJr6mjD5i",
        "colab_type": "code",
        "colab": {
          "base_uri": "https://localhost:8080/",
          "height": 301
        },
        "outputId": "d6d0b19c-5fcb-4bf2-b2d4-48016dfb56c6"
      },
      "source": [
        "coef_dict_baseline = {}\n",
        "for coef, feat in zip(ridge.coef_,house_data.columns):\n",
        "    coef_dict_baseline[feat] = coef\n",
        "coef_dict_baseline"
      ],
      "execution_count": 1282,
      "outputs": [
        {
          "output_type": "execute_result",
          "data": {
            "text/plain": [
              "{'bathrooms': -0.048184764368647215,\n",
              " 'bedrooms': 92.38562391942905,\n",
              " 'condition': 95.90069621059949,\n",
              " 'floors': 55214.47931872492,\n",
              " 'grade': 62.121752579384605,\n",
              " 'id': -34285.9167719569,\n",
              " 'price': 40720.227573021664,\n",
              " 'sqft_above': -2576.6902782812645,\n",
              " 'sqft_basement': 19.350836804544446,\n",
              " 'sqft_living': 5229.134367182195,\n",
              " 'sqft_lot': 574535.8058352575,\n",
              " 'view': 98643.23130334342,\n",
              " 'waterfront': 25983.377139837678,\n",
              " 'yr_built': -583.6196898140091,\n",
              " 'yr_renovated': 603210.0621153784,\n",
              " 'zipcode': -204712.91963339472}"
            ]
          },
          "metadata": {
            "tags": []
          },
          "execution_count": 1282
        }
      ]
    },
    {
      "cell_type": "code",
      "metadata": {
        "id": "ORQMLzdIky3M",
        "colab_type": "code",
        "colab": {
          "base_uri": "https://localhost:8080/",
          "height": 34
        },
        "outputId": "a912907d-dca0-4248-e933-0544b257c56d"
      },
      "source": [
        "ridger2= metrics.r2_score(y,y_pred=ridge.predict(X))\n",
        "print('R2 score for the ridge regression is {}'.format(ridger2) )"
      ],
      "execution_count": 1283,
      "outputs": [
        {
          "output_type": "stream",
          "text": [
            "R2 score for the ridge regression is 0.6988292556182676\n"
          ],
          "name": "stdout"
        }
      ]
    },
    {
      "cell_type": "markdown",
      "metadata": {
        "id": "HxnnfBi2bARC",
        "colab_type": "text"
      },
      "source": [
        "\n",
        "\n",
        "\n",
        "There is a 13% improvement of accuracy prediction from linear 57% to 70% hence ridge may be a better model than linear regression in predicting prices of houses "
      ]
    },
    {
      "cell_type": "code",
      "metadata": {
        "id": "5c9N7gTtuX5A",
        "colab_type": "code",
        "colab": {
          "base_uri": "https://localhost:8080/",
          "height": 457
        },
        "outputId": "c7ca77e3-fde5-47b1-dcd9-3662aa1a951f"
      },
      "source": [
        "\n",
        "coefsridge = [] \n",
        "\n",
        "# Building ridge for 200 values of alpha and write the coefficients into array\n",
        "# \n",
        "alphasridge = np.arange (0, 20, 0.1) \n",
        "for i in range(200):\n",
        "    lasso = Ridge(alpha=alphasridge[i])\n",
        "    lasso.fit(X, y)\n",
        "    coefsridge.append(ridge.coef_) \n",
        "\n",
        "# Building ridge coefficient plots\n",
        "# \n",
        "plt.figure(figsize = (16,7))\n",
        "\n",
        "plt.subplot(121)\n",
        "plt.plot(alphasridge, coefsridge)\n",
        "plt.title('ridge coefficients')\n",
        "plt.xlabel('alpha')\n",
        "plt.ylabel('coefs')\n",
        "\n",
        "plt.show()"
      ],
      "execution_count": 1284,
      "outputs": [
        {
          "output_type": "display_data",
          "data": {
            "image/png": "[encoded data removed]",
            "text/plain": [
              "<Figure size 1152x504 with 1 Axes>"
            ]
          },
          "metadata": {
            "tags": [],
            "needs_background": "light"
          }
        }
      ]
    },
    {
      "cell_type": "markdown",
      "metadata": {
        "id": "gEoLwu5FuO7H",
        "colab_type": "text"
      },
      "source": [
        "# Lasso regression "
      ]
    },
    {
      "cell_type": "markdown",
      "metadata": {
        "id": "1bnPyXdMjnlw",
        "colab_type": "text"
      },
      "source": [
        "Lasso (sometimes stylized as LASSO or lasso) adds the sum of the coefficient values (the L-1 norm) multiplied by a constant lambda. This additional term penalizes the model for having coefficients that do not explain a sufficient amount of variance in the data. It also has a tendency to set the coefficients of the bad predictors mentioned above to 0. This makes Lasso useful in feature selection."
      ]
    },
    {
      "cell_type": "code",
      "metadata": {
        "id": "8Iss1bmjnw1e",
        "colab_type": "code",
        "colab": {
          "base_uri": "https://localhost:8080/",
          "height": 141
        },
        "outputId": "ade5e916-f6e1-4129-ba6a-8a5a149fef42"
      },
      "source": [
        "from sklearn.linear_model import Lasso\n",
        "\n",
        "\n",
        "\n",
        "# Splitting the data into training and test sets, building Lasso, \n",
        "# and choosing the regularization parameter with the help of GridSearch. \n",
        "# For that, we have to define the set of parameters for GridSearch. \n",
        "# In this case, a model with the highest R-squared score will give us the best parameters.\n",
        "# \n",
        "\n",
        "import warnings\n",
        "warnings.filterwarnings(\"ignore\")\n",
        "\n",
        "X_train, X_test, y_train, y_test = train_test_split(X, y, test_size=0.25, random_state=101)\n",
        "parameters = {'alpha': np.concatenate((np.arange(0.1,2,0.1), np.arange(2, 5, 0.5), np.arange(5, 25, 1)))}\n",
        "\n",
        "lasso = linear_model.Lasso() \n",
        "gridlasso = GridSearchCV(lasso, parameters, scoring ='r2') \n",
        "\n",
        "# Fitting models and print the best parameters, R-squared scores, MSE, and coefficients\n",
        "gridlasso.fit(X_train, y_train) \n",
        "linear.fit(X_train, y_train) \n",
        "print(\"lasso best parameters:\", gridlasso.best_params_) \n",
        "print(\"lasso score:\", gridlasso.score(X_test, y_test))\n",
        "print(\"lasso MSE:\", mean_squared_error(y_test, gridlasso.predict(X_test)))\n",
        "print(\"lasso best estimator coef:\", gridlasso.best_estimator_.coef_)\n"
      ],
      "execution_count": 1285,
      "outputs": [
        {
          "output_type": "stream",
          "text": [
            "lasso best parameters: {'alpha': 22.0}\n",
            "lasso score: 0.7092220657049904\n",
            "lasso MSE: 41280833976.20471\n",
            "lasso best estimator coef: [-3.67256099e+04  3.60673826e+04  2.95432535e+02 -3.00675791e-02\n",
            "  9.28662983e+03  5.45885441e+05  5.42612639e+04  2.83583955e+04\n",
            "  1.00726929e+05 -1.05602547e+02 -1.41638946e+02 -2.64450520e+03\n",
            "  1.60796188e+01 -6.09674349e+02  6.06017756e+05 -2.07013797e+05]\n"
          ],
          "name": "stdout"
        }
      ]
    },
    {
      "cell_type": "markdown",
      "metadata": {
        "id": "EVLpg2y5b1M_",
        "colab_type": "text"
      },
      "source": [
        "There is a 1% improvement of the r score in the lasso from the ridge. The difference is not that significant though "
      ]
    },
    {
      "cell_type": "code",
      "metadata": {
        "id": "EdEAndSoqt4Z",
        "colab_type": "code",
        "colab": {
          "base_uri": "https://localhost:8080/",
          "height": 457
        },
        "outputId": "fe12ea62-a2f5-48a6-8e3a-6fb7df2c1d50"
      },
      "source": [
        "#  Visualization\n",
        "#\n",
        "\n",
        "coefsLasso = [] \n",
        "\n",
        "# Building Lasso for 200 values of alpha and write the coefficients into array\n",
        "# \n",
        "alphasLasso = np.arange (0, 20, 0.1) \n",
        "for i in range(200):\n",
        "    lasso = linear_model.Lasso(alpha=alphasLasso[i])\n",
        "    lasso.fit(X_train, y_train)\n",
        "    coefsLasso.append(lasso.coef_) \n",
        "\n",
        "# Building Lasso coefficient plots\n",
        "# \n",
        "plt.figure(figsize = (16,7))\n",
        "\n",
        "plt.subplot(121)\n",
        "plt.plot(alphasLasso, coefsLasso)\n",
        "plt.title('Lasso coefficients')\n",
        "plt.xlabel('alpha')\n",
        "plt.ylabel('coefs')\n",
        "\n",
        "plt.show()"
      ],
      "execution_count": 1286,
      "outputs": [
        {
          "output_type": "display_data",
          "data": {
            "image/png": "[encoded data removed]",
            "text/plain": [
              "<Figure size 1152x504 with 1 Axes>"
            ]
          },
          "metadata": {
            "tags": [],
            "needs_background": "light"
          }
        }
      ]
    },
    {
      "cell_type": "markdown",
      "metadata": {
        "id": "d8xLzBrdvtty",
        "colab_type": "text"
      },
      "source": [
        "# Elastic Net Regression "
      ]
    },
    {
      "cell_type": "markdown",
      "metadata": {
        "id": "4iEBd15Ij4Us",
        "colab_type": "text"
      },
      "source": [
        "Elastic Net includes both L-1 and L-2 norm regularization terms. This gives us the benefits of both Lasso and Ridge regression. It has been found to have predictive power better than Lasso, while still performing feature selection. We therefore get the best of both worlds, performing feature selection of Lasso with the feature-group selection of Ridge."
      ]
    },
    {
      "cell_type": "code",
      "metadata": {
        "id": "xG2TpK8UvxaW",
        "colab_type": "code",
        "colab": {}
      },
      "source": [
        "from sklearn.linear_model import ElasticNet"
      ],
      "execution_count": 1287,
      "outputs": []
    },
    {
      "cell_type": "code",
      "metadata": {
        "id": "KwXBSwqrwyt_",
        "colab_type": "code",
        "colab": {}
      },
      "source": [
        "elastic=ElasticNet(normalize=True)\n",
        "search=GridSearchCV(estimator=elastic,param_grid={'alpha':np.logspace(-5,2,8),'l1_ratio':[.2,.4,.6,.8]},scoring='neg_mean_squared_error',n_jobs=1,refit=True,cv=10)"
      ],
      "execution_count": 1288,
      "outputs": []
    },
    {
      "cell_type": "code",
      "metadata": {
        "id": "SvW5slPlw_aZ",
        "colab_type": "code",
        "colab": {
          "base_uri": "https://localhost:8080/",
          "height": 52
        },
        "outputId": "04f7d291-d4d9-46e0-9d53-43dd65c21c27"
      },
      "source": [
        "search.fit(X,y)\n",
        "search.best_params_\n",
        "abs(search.best_score_)\n",
        "print(search.best_params_)\n",
        "print(abs(search.best_score_))"
      ],
      "execution_count": 1289,
      "outputs": [
        {
          "output_type": "stream",
          "text": [
            "{'alpha': 1e-05, 'l1_ratio': 0.8}\n",
            "41065039944.1675\n"
          ],
          "name": "stdout"
        }
      ]
    },
    {
      "cell_type": "code",
      "metadata": {
        "id": "z_Fsri8rxJto",
        "colab_type": "code",
        "colab": {
          "base_uri": "https://localhost:8080/",
          "height": 34
        },
        "outputId": "0ab1a7a9-6b33-468c-effa-0c1ef2b11776"
      },
      "source": [
        "elastic=ElasticNet(normalize=True,alpha=0.00001,l1_ratio=0.8)\n",
        "elastic.fit(X,y)\n",
        "elastic_model=(mean_squared_error(y_true=y,y_pred=elastic.predict(X)))\n",
        "print(elastic_model)"
      ],
      "execution_count": 1290,
      "outputs": [
        {
          "output_type": "stream",
          "text": [
            "40725757557.36127\n"
          ],
          "name": "stdout"
        }
      ]
    },
    {
      "cell_type": "code",
      "metadata": {
        "id": "GKJEdZLfxcF6",
        "colab_type": "code",
        "colab": {
          "base_uri": "https://localhost:8080/",
          "height": 54
        },
        "outputId": "c08a4c3e-bc1d-4877-f915-06b5b4f63870"
      },
      "source": [
        "#Coeff from elastic net.\n",
        "coef_dict_baseline = {}\n",
        "for coef, feat in zip(elastic.coef_,X.columns):\n",
        "    coef_dict_baseline[feat] = coef\n",
        "print(coef_dict_baseline)"
      ],
      "execution_count": 1291,
      "outputs": [
        {
          "output_type": "stream",
          "text": [
            "{'bedrooms': -30550.779579220958, 'bathrooms': 40065.680236110275, 'sqft_living': 90.96112223800439, 'sqft_lot': -0.03375944529253876, 'floors': 6305.3668960592295, 'waterfront': 560550.9462452582, 'view': 55974.958148232065, 'condition': 26795.022755747716, 'grade': 94651.4211303859, 'sqft_above': 93.97096591995485, 'sqft_basement': 62.74284398395646, 'yr_built': -2389.403739017554, 'yr_renovated': 22.059066505726534, 'zipcode': -526.2350364259429, 'lat': 589497.9653495618, 'long': -193870.82932796667}\n"
          ],
          "name": "stdout"
        }
      ]
    },
    {
      "cell_type": "markdown",
      "metadata": {
        "id": "7DY7RJY2s8FW",
        "colab_type": "text"
      },
      "source": [
        "The co-eeficients show how many units the prices of the houses will rise or fall  given a one unit increase of the independent variables "
      ]
    },
    {
      "cell_type": "code",
      "metadata": {
        "id": "PjKiH4IYxt_m",
        "colab_type": "code",
        "colab": {
          "base_uri": "https://localhost:8080/",
          "height": 34
        },
        "outputId": "0523aa99-5c3c-4983-9cc5-c58f7e2d4ce5"
      },
      "source": [
        "#R2 score from elastic net \n",
        "elasticr2= metrics.r2_score(y,y_pred=elastic.predict(X))\n",
        "print('R2 score for the elastic net regression is {}'.format(elasticr2) )"
      ],
      "execution_count": 1292,
      "outputs": [
        {
          "output_type": "stream",
          "text": [
            "R2 score for the elastic net regression is 0.6982131884127806\n"
          ],
          "name": "stdout"
        }
      ]
    },
    {
      "cell_type": "markdown",
      "metadata": {
        "id": "BrVB3C81cKc2",
        "colab_type": "text"
      },
      "source": [
        "The r2 score of elastic net is almost the same to that of ridge and a bit worse off from lasso "
      ]
    },
    {
      "cell_type": "code",
      "metadata": {
        "id": "LK0R0VMSeE0l",
        "colab_type": "code",
        "colab": {
          "base_uri": "https://localhost:8080/",
          "height": 34
        },
        "outputId": "05be95f3-99d7-44b7-b587-295b4deb6210"
      },
      "source": [
        "#Trying to compare the MSE Of the various regressions except quatile regression \n",
        "#\n",
        "#elastic_model, lasso_model, ridge_model, linearmodel MSES\n",
        "x = (40725757557.36127,41280833976.20471,40642620048.74137,13939180229.833775)\n",
        "max(x)"
      ],
      "execution_count": 1293,
      "outputs": [
        {
          "output_type": "execute_result",
          "data": {
            "text/plain": [
              "41280833976.20471"
            ]
          },
          "metadata": {
            "tags": []
          },
          "execution_count": 1293
        }
      ]
    },
    {
      "cell_type": "markdown",
      "metadata": {
        "id": "iW0_hh9zka4b",
        "colab_type": "text"
      },
      "source": [
        "Lasso Regression was the best model according to MSE. The Lasso and Elastic Net models traded a significant amount of variance for bias, and we see that our error has decreased.The ridge regression model traded some variance for bias, which ultimately lead to an overall larger error. \n",
        "\n",
        "According to the R_score Lasso was the best model for prediction  \n",
        "\n",
        "\n",
        "Using ridge and elastic net would not be a bad idea as they both have high r score and MSE are above the basemodel \n"
      ]
    },
    {
      "cell_type": "markdown",
      "metadata": {
        "id": "9ge4VPNprCcN",
        "colab_type": "text"
      },
      "source": [
        "# Follow up questions"
      ]
    },
    {
      "cell_type": "markdown",
      "metadata": {
        "id": "k9eW_Uf1rD69",
        "colab_type": "text"
      },
      "source": [
        "Other regression models would be performed to get the best \n",
        "Also more features such as availability of social anemities, security parameters would be added to increase r_score of the models "
      ]
    }
  ]
}